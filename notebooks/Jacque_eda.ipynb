{
 "cells": [
  {
   "cell_type": "code",
   "execution_count": 103,
   "metadata": {},
   "outputs": [],
   "source": [
    "import pandas as pd\n",
    "import numpy as np\n",
    "import matplotlib.pylab as plt\n",
    "import seaborn as sns\n",
    "plt.style.use (\"ggplot\")\n",
    "pd.set_option(\"display.max_columns\", 300)\n",
    "\n",
    "import plotly.express as px\n"
   ]
  },
  {
   "cell_type": "markdown",
   "metadata": {},
   "source": [
    "Import Data"
   ]
  },
  {
   "cell_type": "code",
   "execution_count": 104,
   "metadata": {},
   "outputs": [
    {
     "name": "stderr",
     "output_type": "stream",
     "text": [
      "/var/folders/7d/lbg415rs1336xg8yjmf1h_3c0000gn/T/ipykernel_1230/99185598.py:1: DtypeWarning:\n",
      "\n",
      "Columns (2,29) have mixed types. Specify dtype option on import or set low_memory=False.\n",
      "\n"
     ]
    }
   ],
   "source": [
    "df = pd.read_csv(\"/Users/sa18/Desktop/TicketMasterAPI/data/csv/US Raw Events.csv\")"
   ]
  },
  {
   "cell_type": "markdown",
   "metadata": {},
   "source": [
    "Data Understanding"
   ]
  },
  {
   "cell_type": "code",
   "execution_count": 105,
   "metadata": {},
   "outputs": [
    {
     "data": {
      "text/plain": [
       "(100713, 77)"
      ]
     },
     "execution_count": 105,
     "metadata": {},
     "output_type": "execute_result"
    }
   ],
   "source": [
    "# shape of the DataFrame (rows, columns)\n",
    "df.shape"
   ]
  },
  {
   "cell_type": "code",
   "execution_count": 106,
   "metadata": {},
   "outputs": [
    {
     "data": {
      "text/html": [
       "<div>\n",
       "<style scoped>\n",
       "    .dataframe tbody tr th:only-of-type {\n",
       "        vertical-align: middle;\n",
       "    }\n",
       "\n",
       "    .dataframe tbody tr th {\n",
       "        vertical-align: top;\n",
       "    }\n",
       "\n",
       "    .dataframe thead th {\n",
       "        text-align: right;\n",
       "    }\n",
       "</style>\n",
       "<table border=\"1\" class=\"dataframe\">\n",
       "  <thead>\n",
       "    <tr style=\"text-align: right;\">\n",
       "      <th></th>\n",
       "      <th>EVENT_ID</th>\n",
       "      <th>EVENT_NAME</th>\n",
       "      <th>EVENT_NOTES</th>\n",
       "      <th>EVENT_INFO</th>\n",
       "      <th>EVENT_STATUS</th>\n",
       "      <th>EVENT_START_DATETIME</th>\n",
       "      <th>EVENT_END_DATETIME</th>\n",
       "      <th>EVENT_START_LOCAL_DATE</th>\n",
       "      <th>EVENT_START_LOCAL_TIME</th>\n",
       "      <th>ONSALE_START_DATETIME</th>\n",
       "      <th>ONSALE_END_DATETIME</th>\n",
       "      <th>CLASSIFICATION_SEGMENT</th>\n",
       "      <th>CLASSIFICATION_GENRE</th>\n",
       "      <th>CLASSIFICATION_SUB_GENRE</th>\n",
       "      <th>EVENT_IMAGE_URL</th>\n",
       "      <th>MIN_PRICE</th>\n",
       "      <th>MAX_PRICE</th>\n",
       "      <th>CURRENCY</th>\n",
       "      <th>ATTRACTION_NAME</th>\n",
       "      <th>ATTRACTION_ID</th>\n",
       "      <th>ATTRACTION_IMAGE_URL</th>\n",
       "      <th>VENUE_NAME</th>\n",
       "      <th>VENUE_ID</th>\n",
       "      <th>VENUE_STREET</th>\n",
       "      <th>VENUE_CITY</th>\n",
       "      <th>VENUE_STATE_CODE</th>\n",
       "      <th>VENUE_COUNTRY_CODE</th>\n",
       "      <th>VENUE_LATITUDE</th>\n",
       "      <th>VENUE_LONGITUDE</th>\n",
       "      <th>VENUE_ZIP_CODE</th>\n",
       "      <th>VENUE_TIMEZONE</th>\n",
       "      <th>ATTRACTION_URL</th>\n",
       "      <th>VENUE_URL</th>\n",
       "      <th>PRIMARY_EVENT_URL</th>\n",
       "      <th>RESALE_EVENT_URL</th>\n",
       "      <th>PRESALE_NAME</th>\n",
       "      <th>PRESALE_DATETIME_RANGE</th>\n",
       "      <th>LEGACY_EVENT_ID</th>\n",
       "      <th>LEGACY_VENUE_ID</th>\n",
       "      <th>LEGACY_ATTRACTION_ID</th>\n",
       "      <th>PRESALE_NAME.1</th>\n",
       "      <th>PRESALE_DESCRIPTION</th>\n",
       "      <th>PRESALE_START_DATETIME</th>\n",
       "      <th>PRESALE_END_DATETIME</th>\n",
       "      <th>SOURCE</th>\n",
       "      <th>CLASSIFICATION_TYPE</th>\n",
       "      <th>CLASSIFICATION_SUB_TYPE</th>\n",
       "      <th>PROMOTER_ID</th>\n",
       "      <th>PROMOTER_NAME</th>\n",
       "      <th>CLASSIFICATION_SEGMENT_ID</th>\n",
       "      <th>CLASSIFICATION_GENRE_ID</th>\n",
       "      <th>CLASSIFICATION_SUB_GENRE_ID</th>\n",
       "      <th>CLASSIFICATION_TYPE_ID</th>\n",
       "      <th>CLASSIFICATION_SUB_TYPE_ID</th>\n",
       "      <th>ATTRACTION_CLASSIFICATION_SEGMENT_ID</th>\n",
       "      <th>ATTRACTION_CLASSIFICATION_SEGMENT</th>\n",
       "      <th>ATTRACTION_CLASSIFICATION_GENRE_ID</th>\n",
       "      <th>ATTRACTION_CLASSIFICATION_GENRE</th>\n",
       "      <th>ATTRACTION_CLASSIFICATION_SUB_GENRE_ID</th>\n",
       "      <th>ATTRACTION_CLASSIFICATION_SUB_GENRE</th>\n",
       "      <th>ATTRACTION_CLASSIFICATION_TYPE_ID</th>\n",
       "      <th>ATTRACTION_CLASSIFICATION_TYPE</th>\n",
       "      <th>ATTRACTION_CLASSIFICATION_SUB_TYPE_ID</th>\n",
       "      <th>ATTRACTION_CLASSIFICATION_SUB_TYPE</th>\n",
       "      <th>MIN_PRICE_WITH_FEES</th>\n",
       "      <th>MAX_PRICE_WITH_FEES</th>\n",
       "      <th>TRANSACTABLE</th>\n",
       "      <th>HOT_EVENT</th>\n",
       "      <th>ACCESSIBLE_SEATING_DETAIL</th>\n",
       "      <th>ADA_PHONE</th>\n",
       "      <th>ADA_CUSTOM_COPY</th>\n",
       "      <th>ADA_HOURS</th>\n",
       "      <th>ACCESSIBILITY_INFO</th>\n",
       "      <th>API_ONSALE_START_DATETIME</th>\n",
       "      <th>PLEASE_NOTE</th>\n",
       "      <th>IMPORTANT_INFORMATION</th>\n",
       "      <th>EVENT_END_LOCAL_DATE</th>\n",
       "    </tr>\n",
       "  </thead>\n",
       "  <tbody>\n",
       "    <tr>\n",
       "      <th>0</th>\n",
       "      <td>rZ7HnEZ1AfF6aK</td>\n",
       "      <td>Tonight at the Improv!</td>\n",
       "      <td>NaN</td>\n",
       "      <td>DO NOT PURCHASE TICKETS FROM ANYONE OR ANY OTH...</td>\n",
       "      <td>onsale</td>\n",
       "      <td>2025-03-02T05:30:00Z</td>\n",
       "      <td>NaN</td>\n",
       "      <td>2025-03-01</td>\n",
       "      <td>21:30</td>\n",
       "      <td>2025-01-20T21:00:00Z</td>\n",
       "      <td>2025-03-02T06:00:00Z</td>\n",
       "      <td>Undefined</td>\n",
       "      <td>NaN</td>\n",
       "      <td>NaN</td>\n",
       "      <td>https://i.ticketweb.com/i/00/12/86/60/03_Edp.j...</td>\n",
       "      <td>29.34</td>\n",
       "      <td>29.34</td>\n",
       "      <td>USD</td>\n",
       "      <td>NaN</td>\n",
       "      <td>NaN</td>\n",
       "      <td>NaN</td>\n",
       "      <td>Hollywood Improv (The Main Room)</td>\n",
       "      <td>rZ7HnEZ178sj4</td>\n",
       "      <td>8162 Melrose Avenue</td>\n",
       "      <td>Hollywood</td>\n",
       "      <td>CA</td>\n",
       "      <td>US</td>\n",
       "      <td>34.083418</td>\n",
       "      <td>-118.366556</td>\n",
       "      <td>90046</td>\n",
       "      <td>America/Los_Angeles</td>\n",
       "      <td>NaN</td>\n",
       "      <td>https://www.ticketweb.com/venue/hollywood-impr...</td>\n",
       "      <td>https://www.ticketweb.com/event/tonight-at-the...</td>\n",
       "      <td>NaN</td>\n",
       "      <td>NaN</td>\n",
       "      <td>NaN</td>\n",
       "      <td>rZ7HnEZ1AfF6aK</td>\n",
       "      <td>NaN</td>\n",
       "      <td>NaN</td>\n",
       "      <td>NaN</td>\n",
       "      <td>NaN</td>\n",
       "      <td>NaN</td>\n",
       "      <td>NaN</td>\n",
       "      <td>ticketweb</td>\n",
       "      <td>Undefined</td>\n",
       "      <td>Undefined</td>\n",
       "      <td>NaN</td>\n",
       "      <td>NaN</td>\n",
       "      <td>KZFzniwnSyZfZ7v7nl</td>\n",
       "      <td>NaN</td>\n",
       "      <td>NaN</td>\n",
       "      <td>KZAyXgnZfZ7v7nI</td>\n",
       "      <td>KZFzBErXgnZfZ7v7lJ</td>\n",
       "      <td>NaN</td>\n",
       "      <td>NaN</td>\n",
       "      <td>NaN</td>\n",
       "      <td>NaN</td>\n",
       "      <td>NaN</td>\n",
       "      <td>NaN</td>\n",
       "      <td>NaN</td>\n",
       "      <td>NaN</td>\n",
       "      <td>NaN</td>\n",
       "      <td>NaN</td>\n",
       "      <td>NaN</td>\n",
       "      <td>NaN</td>\n",
       "      <td>NaN</td>\n",
       "      <td>False</td>\n",
       "      <td>NaN</td>\n",
       "      <td>NaN</td>\n",
       "      <td>NaN</td>\n",
       "      <td>NaN</td>\n",
       "      <td>NaN</td>\n",
       "      <td>2025-01-20T22:00:00Z</td>\n",
       "      <td>This event is 21 and over. Any ticket holder u...</td>\n",
       "      <td>NaN</td>\n",
       "      <td>NaN</td>\n",
       "    </tr>\n",
       "    <tr>\n",
       "      <th>1</th>\n",
       "      <td>rZ7HnEZ1AfF6aN</td>\n",
       "      <td>Tonight at the Improv!</td>\n",
       "      <td>NaN</td>\n",
       "      <td>DO NOT PURCHASE TICKETS FROM ANYONE OR ANY OTH...</td>\n",
       "      <td>onsale</td>\n",
       "      <td>2025-03-09T05:30:00Z</td>\n",
       "      <td>NaN</td>\n",
       "      <td>2025-03-08</td>\n",
       "      <td>21:30</td>\n",
       "      <td>2025-01-20T21:00:00Z</td>\n",
       "      <td>2025-03-09T06:00:00Z</td>\n",
       "      <td>Undefined</td>\n",
       "      <td>NaN</td>\n",
       "      <td>NaN</td>\n",
       "      <td>https://i.ticketweb.com/i/00/12/86/60/03_Edp.j...</td>\n",
       "      <td>29.34</td>\n",
       "      <td>29.34</td>\n",
       "      <td>USD</td>\n",
       "      <td>NaN</td>\n",
       "      <td>NaN</td>\n",
       "      <td>NaN</td>\n",
       "      <td>Hollywood Improv (The Main Room)</td>\n",
       "      <td>rZ7HnEZ178sj4</td>\n",
       "      <td>8162 Melrose Avenue</td>\n",
       "      <td>Hollywood</td>\n",
       "      <td>CA</td>\n",
       "      <td>US</td>\n",
       "      <td>34.083418</td>\n",
       "      <td>-118.366556</td>\n",
       "      <td>90046</td>\n",
       "      <td>America/Los_Angeles</td>\n",
       "      <td>NaN</td>\n",
       "      <td>https://www.ticketweb.com/venue/hollywood-impr...</td>\n",
       "      <td>https://www.ticketweb.com/event/tonight-at-the...</td>\n",
       "      <td>NaN</td>\n",
       "      <td>NaN</td>\n",
       "      <td>NaN</td>\n",
       "      <td>rZ7HnEZ1AfF6aN</td>\n",
       "      <td>NaN</td>\n",
       "      <td>NaN</td>\n",
       "      <td>NaN</td>\n",
       "      <td>NaN</td>\n",
       "      <td>NaN</td>\n",
       "      <td>NaN</td>\n",
       "      <td>ticketweb</td>\n",
       "      <td>Undefined</td>\n",
       "      <td>Undefined</td>\n",
       "      <td>NaN</td>\n",
       "      <td>NaN</td>\n",
       "      <td>KZFzniwnSyZfZ7v7nl</td>\n",
       "      <td>NaN</td>\n",
       "      <td>NaN</td>\n",
       "      <td>KZAyXgnZfZ7v7nI</td>\n",
       "      <td>KZFzBErXgnZfZ7v7lJ</td>\n",
       "      <td>NaN</td>\n",
       "      <td>NaN</td>\n",
       "      <td>NaN</td>\n",
       "      <td>NaN</td>\n",
       "      <td>NaN</td>\n",
       "      <td>NaN</td>\n",
       "      <td>NaN</td>\n",
       "      <td>NaN</td>\n",
       "      <td>NaN</td>\n",
       "      <td>NaN</td>\n",
       "      <td>NaN</td>\n",
       "      <td>NaN</td>\n",
       "      <td>NaN</td>\n",
       "      <td>False</td>\n",
       "      <td>NaN</td>\n",
       "      <td>NaN</td>\n",
       "      <td>NaN</td>\n",
       "      <td>NaN</td>\n",
       "      <td>NaN</td>\n",
       "      <td>2025-01-20T22:00:00Z</td>\n",
       "      <td>This event is 21 and over. Any ticket holder u...</td>\n",
       "      <td>NaN</td>\n",
       "      <td>NaN</td>\n",
       "    </tr>\n",
       "    <tr>\n",
       "      <th>2</th>\n",
       "      <td>1ApZkFMGkdiw0WO</td>\n",
       "      <td>Kneecap</td>\n",
       "      <td>NaN</td>\n",
       "      <td>The Mercury Ballroom is an all-ages, standing ...</td>\n",
       "      <td>onsale</td>\n",
       "      <td>2025-10-04T00:00:00Z</td>\n",
       "      <td>NaN</td>\n",
       "      <td>2025-10-03</td>\n",
       "      <td>20:00</td>\n",
       "      <td>2025-01-31T15:00:00Z</td>\n",
       "      <td>2025-10-04T02:00:00Z</td>\n",
       "      <td>Music</td>\n",
       "      <td>Hip-Hop/Rap</td>\n",
       "      <td>French Rap</td>\n",
       "      <td>https://s1.ticketm.net/dam/a/933/7ddad2cb-140c...</td>\n",
       "      <td>24.50</td>\n",
       "      <td>39.50</td>\n",
       "      <td>USD</td>\n",
       "      <td>Kneecap</td>\n",
       "      <td>K8vZ917boF0</td>\n",
       "      <td>https://s1.ticketm.net/dam/a/933/7ddad2cb-140c...</td>\n",
       "      <td>Mercury Ballroom</td>\n",
       "      <td>KovZpZAEk7EA</td>\n",
       "      <td>611 S 4th Street</td>\n",
       "      <td>Louisville</td>\n",
       "      <td>KY</td>\n",
       "      <td>US</td>\n",
       "      <td>38.248514</td>\n",
       "      <td>-85.757890</td>\n",
       "      <td>40202</td>\n",
       "      <td>America/New_York</td>\n",
       "      <td>https://www.livenation.com/artist/K8vZ917boF0/...</td>\n",
       "      <td>https://www.ticketmaster.com/mercury-ballroom-...</td>\n",
       "      <td>https://concerts.livenation.com/kneecap-louisv...</td>\n",
       "      <td>NaN</td>\n",
       "      <td>NaN</td>\n",
       "      <td>NaN</td>\n",
       "      <td>16006237ECCA4F60</td>\n",
       "      <td>180996.0</td>\n",
       "      <td>2661733</td>\n",
       "      <td>Live Nation Presale|Ticketmaster Presale|Venue...</td>\n",
       "      <td>||||</td>\n",
       "      <td>2025-01-30T15:00:00Z|2025-01-30T15:00:00Z|2025...</td>\n",
       "      <td>2025-01-31T03:00:00Z|2025-01-31T03:00:00Z|2025...</td>\n",
       "      <td>ticketmaster</td>\n",
       "      <td>Undefined</td>\n",
       "      <td>Undefined</td>\n",
       "      <td>653</td>\n",
       "      <td>LIVE NATION MUSIC</td>\n",
       "      <td>KZFzniwnSyZfZ7v7nJ</td>\n",
       "      <td>KnvZfZ7vAv1</td>\n",
       "      <td>KZazBEonSMnZfZ7vaa1</td>\n",
       "      <td>KZAyXgnZfZ7v7nI</td>\n",
       "      <td>KZFzBErXgnZfZ7v7lJ</td>\n",
       "      <td>KZFzniwnSyZfZ7v7nJ</td>\n",
       "      <td>Music</td>\n",
       "      <td>KnvZfZ7vAv1</td>\n",
       "      <td>Hip-Hop/Rap</td>\n",
       "      <td>KZazBEonSMnZfZ7vkdA</td>\n",
       "      <td>Urban</td>\n",
       "      <td>KZAyXgnZfZ7v7l1</td>\n",
       "      <td>Group</td>\n",
       "      <td>KZFzBErXgnZfZ7vA71</td>\n",
       "      <td>Band</td>\n",
       "      <td>NaN</td>\n",
       "      <td>NaN</td>\n",
       "      <td>True</td>\n",
       "      <td>False</td>\n",
       "      <td>For Handicapped Accessible seating, please cal...</td>\n",
       "      <td>NaN</td>\n",
       "      <td>NaN</td>\n",
       "      <td>NaN</td>\n",
       "      <td>NaN</td>\n",
       "      <td>2025-01-31T16:00:00Z</td>\n",
       "      <td>The Mercury Ballroom is an all-ages, standing ...</td>\n",
       "      <td>NaN</td>\n",
       "      <td>NaN</td>\n",
       "    </tr>\n",
       "    <tr>\n",
       "      <th>3</th>\n",
       "      <td>rZ7HnEZ1AfF6aS</td>\n",
       "      <td>Tonight at the Improv!</td>\n",
       "      <td>NaN</td>\n",
       "      <td>DO NOT PURCHASE TICKETS FROM ANYONE OR ANY OTH...</td>\n",
       "      <td>onsale</td>\n",
       "      <td>2025-03-30T02:00:00Z</td>\n",
       "      <td>NaN</td>\n",
       "      <td>2025-03-29</td>\n",
       "      <td>19:00</td>\n",
       "      <td>2025-01-20T21:00:00Z</td>\n",
       "      <td>2025-03-30T02:30:00Z</td>\n",
       "      <td>Undefined</td>\n",
       "      <td>NaN</td>\n",
       "      <td>NaN</td>\n",
       "      <td>https://i.ticketweb.com/i/00/12/86/60/03_Edp.j...</td>\n",
       "      <td>29.34</td>\n",
       "      <td>29.34</td>\n",
       "      <td>USD</td>\n",
       "      <td>NaN</td>\n",
       "      <td>NaN</td>\n",
       "      <td>NaN</td>\n",
       "      <td>Hollywood Improv (The Main Room)</td>\n",
       "      <td>rZ7HnEZ178sj4</td>\n",
       "      <td>8162 Melrose Avenue</td>\n",
       "      <td>Hollywood</td>\n",
       "      <td>CA</td>\n",
       "      <td>US</td>\n",
       "      <td>34.083418</td>\n",
       "      <td>-118.366556</td>\n",
       "      <td>90046</td>\n",
       "      <td>America/Los_Angeles</td>\n",
       "      <td>NaN</td>\n",
       "      <td>https://www.ticketweb.com/venue/hollywood-impr...</td>\n",
       "      <td>https://www.ticketweb.com/event/tonight-at-the...</td>\n",
       "      <td>NaN</td>\n",
       "      <td>NaN</td>\n",
       "      <td>NaN</td>\n",
       "      <td>rZ7HnEZ1AfF6aS</td>\n",
       "      <td>NaN</td>\n",
       "      <td>NaN</td>\n",
       "      <td>NaN</td>\n",
       "      <td>NaN</td>\n",
       "      <td>NaN</td>\n",
       "      <td>NaN</td>\n",
       "      <td>ticketweb</td>\n",
       "      <td>Undefined</td>\n",
       "      <td>Undefined</td>\n",
       "      <td>NaN</td>\n",
       "      <td>NaN</td>\n",
       "      <td>KZFzniwnSyZfZ7v7nl</td>\n",
       "      <td>NaN</td>\n",
       "      <td>NaN</td>\n",
       "      <td>KZAyXgnZfZ7v7nI</td>\n",
       "      <td>KZFzBErXgnZfZ7v7lJ</td>\n",
       "      <td>NaN</td>\n",
       "      <td>NaN</td>\n",
       "      <td>NaN</td>\n",
       "      <td>NaN</td>\n",
       "      <td>NaN</td>\n",
       "      <td>NaN</td>\n",
       "      <td>NaN</td>\n",
       "      <td>NaN</td>\n",
       "      <td>NaN</td>\n",
       "      <td>NaN</td>\n",
       "      <td>NaN</td>\n",
       "      <td>NaN</td>\n",
       "      <td>NaN</td>\n",
       "      <td>False</td>\n",
       "      <td>NaN</td>\n",
       "      <td>NaN</td>\n",
       "      <td>NaN</td>\n",
       "      <td>NaN</td>\n",
       "      <td>NaN</td>\n",
       "      <td>2025-01-20T22:00:00Z</td>\n",
       "      <td>This event is 21 and over. Any ticket holder u...</td>\n",
       "      <td>NaN</td>\n",
       "      <td>NaN</td>\n",
       "    </tr>\n",
       "    <tr>\n",
       "      <th>4</th>\n",
       "      <td>rZ7HnEZ1AfF6ad</td>\n",
       "      <td>Tonight at the Improv!</td>\n",
       "      <td>NaN</td>\n",
       "      <td>DO NOT PURCHASE TICKETS FROM ANYONE OR ANY OTH...</td>\n",
       "      <td>onsale</td>\n",
       "      <td>2025-03-08T06:15:00Z</td>\n",
       "      <td>NaN</td>\n",
       "      <td>2025-03-07</td>\n",
       "      <td>22:15</td>\n",
       "      <td>2025-01-20T21:00:00Z</td>\n",
       "      <td>2025-03-08T06:45:00Z</td>\n",
       "      <td>Undefined</td>\n",
       "      <td>NaN</td>\n",
       "      <td>NaN</td>\n",
       "      <td>https://i.ticketweb.com/i/00/12/86/60/13_Edp.j...</td>\n",
       "      <td>19.04</td>\n",
       "      <td>19.04</td>\n",
       "      <td>USD</td>\n",
       "      <td>NaN</td>\n",
       "      <td>NaN</td>\n",
       "      <td>NaN</td>\n",
       "      <td>Hollywood Improv (The Main Room)</td>\n",
       "      <td>rZ7HnEZ178sj4</td>\n",
       "      <td>8162 Melrose Avenue</td>\n",
       "      <td>Hollywood</td>\n",
       "      <td>CA</td>\n",
       "      <td>US</td>\n",
       "      <td>34.083418</td>\n",
       "      <td>-118.366556</td>\n",
       "      <td>90046</td>\n",
       "      <td>America/Los_Angeles</td>\n",
       "      <td>NaN</td>\n",
       "      <td>https://www.ticketweb.com/venue/hollywood-impr...</td>\n",
       "      <td>https://www.ticketweb.com/event/tonight-at-the...</td>\n",
       "      <td>NaN</td>\n",
       "      <td>NaN</td>\n",
       "      <td>NaN</td>\n",
       "      <td>rZ7HnEZ1AfF6ad</td>\n",
       "      <td>NaN</td>\n",
       "      <td>NaN</td>\n",
       "      <td>NaN</td>\n",
       "      <td>NaN</td>\n",
       "      <td>NaN</td>\n",
       "      <td>NaN</td>\n",
       "      <td>ticketweb</td>\n",
       "      <td>Undefined</td>\n",
       "      <td>Undefined</td>\n",
       "      <td>NaN</td>\n",
       "      <td>NaN</td>\n",
       "      <td>KZFzniwnSyZfZ7v7nl</td>\n",
       "      <td>NaN</td>\n",
       "      <td>NaN</td>\n",
       "      <td>KZAyXgnZfZ7v7nI</td>\n",
       "      <td>KZFzBErXgnZfZ7v7lJ</td>\n",
       "      <td>NaN</td>\n",
       "      <td>NaN</td>\n",
       "      <td>NaN</td>\n",
       "      <td>NaN</td>\n",
       "      <td>NaN</td>\n",
       "      <td>NaN</td>\n",
       "      <td>NaN</td>\n",
       "      <td>NaN</td>\n",
       "      <td>NaN</td>\n",
       "      <td>NaN</td>\n",
       "      <td>NaN</td>\n",
       "      <td>NaN</td>\n",
       "      <td>NaN</td>\n",
       "      <td>False</td>\n",
       "      <td>NaN</td>\n",
       "      <td>NaN</td>\n",
       "      <td>NaN</td>\n",
       "      <td>NaN</td>\n",
       "      <td>NaN</td>\n",
       "      <td>2025-01-20T22:00:00Z</td>\n",
       "      <td>This event is 21 and over. Any ticket holder u...</td>\n",
       "      <td>NaN</td>\n",
       "      <td>NaN</td>\n",
       "    </tr>\n",
       "  </tbody>\n",
       "</table>\n",
       "</div>"
      ],
      "text/plain": [
       "          EVENT_ID              EVENT_NAME EVENT_NOTES  \\\n",
       "0   rZ7HnEZ1AfF6aK  Tonight at the Improv!         NaN   \n",
       "1   rZ7HnEZ1AfF6aN  Tonight at the Improv!         NaN   \n",
       "2  1ApZkFMGkdiw0WO                 Kneecap         NaN   \n",
       "3   rZ7HnEZ1AfF6aS  Tonight at the Improv!         NaN   \n",
       "4   rZ7HnEZ1AfF6ad  Tonight at the Improv!         NaN   \n",
       "\n",
       "                                          EVENT_INFO EVENT_STATUS  \\\n",
       "0  DO NOT PURCHASE TICKETS FROM ANYONE OR ANY OTH...       onsale   \n",
       "1  DO NOT PURCHASE TICKETS FROM ANYONE OR ANY OTH...       onsale   \n",
       "2  The Mercury Ballroom is an all-ages, standing ...       onsale   \n",
       "3  DO NOT PURCHASE TICKETS FROM ANYONE OR ANY OTH...       onsale   \n",
       "4  DO NOT PURCHASE TICKETS FROM ANYONE OR ANY OTH...       onsale   \n",
       "\n",
       "   EVENT_START_DATETIME EVENT_END_DATETIME EVENT_START_LOCAL_DATE  \\\n",
       "0  2025-03-02T05:30:00Z                NaN             2025-03-01   \n",
       "1  2025-03-09T05:30:00Z                NaN             2025-03-08   \n",
       "2  2025-10-04T00:00:00Z                NaN             2025-10-03   \n",
       "3  2025-03-30T02:00:00Z                NaN             2025-03-29   \n",
       "4  2025-03-08T06:15:00Z                NaN             2025-03-07   \n",
       "\n",
       "  EVENT_START_LOCAL_TIME ONSALE_START_DATETIME   ONSALE_END_DATETIME  \\\n",
       "0                  21:30  2025-01-20T21:00:00Z  2025-03-02T06:00:00Z   \n",
       "1                  21:30  2025-01-20T21:00:00Z  2025-03-09T06:00:00Z   \n",
       "2                  20:00  2025-01-31T15:00:00Z  2025-10-04T02:00:00Z   \n",
       "3                  19:00  2025-01-20T21:00:00Z  2025-03-30T02:30:00Z   \n",
       "4                  22:15  2025-01-20T21:00:00Z  2025-03-08T06:45:00Z   \n",
       "\n",
       "  CLASSIFICATION_SEGMENT CLASSIFICATION_GENRE CLASSIFICATION_SUB_GENRE  \\\n",
       "0              Undefined                  NaN                      NaN   \n",
       "1              Undefined                  NaN                      NaN   \n",
       "2                  Music          Hip-Hop/Rap               French Rap   \n",
       "3              Undefined                  NaN                      NaN   \n",
       "4              Undefined                  NaN                      NaN   \n",
       "\n",
       "                                     EVENT_IMAGE_URL  MIN_PRICE  MAX_PRICE  \\\n",
       "0  https://i.ticketweb.com/i/00/12/86/60/03_Edp.j...      29.34      29.34   \n",
       "1  https://i.ticketweb.com/i/00/12/86/60/03_Edp.j...      29.34      29.34   \n",
       "2  https://s1.ticketm.net/dam/a/933/7ddad2cb-140c...      24.50      39.50   \n",
       "3  https://i.ticketweb.com/i/00/12/86/60/03_Edp.j...      29.34      29.34   \n",
       "4  https://i.ticketweb.com/i/00/12/86/60/13_Edp.j...      19.04      19.04   \n",
       "\n",
       "  CURRENCY ATTRACTION_NAME ATTRACTION_ID  \\\n",
       "0      USD             NaN           NaN   \n",
       "1      USD             NaN           NaN   \n",
       "2      USD         Kneecap   K8vZ917boF0   \n",
       "3      USD             NaN           NaN   \n",
       "4      USD             NaN           NaN   \n",
       "\n",
       "                                ATTRACTION_IMAGE_URL  \\\n",
       "0                                                NaN   \n",
       "1                                                NaN   \n",
       "2  https://s1.ticketm.net/dam/a/933/7ddad2cb-140c...   \n",
       "3                                                NaN   \n",
       "4                                                NaN   \n",
       "\n",
       "                          VENUE_NAME       VENUE_ID         VENUE_STREET  \\\n",
       "0  Hollywood Improv (The Main Room)   rZ7HnEZ178sj4  8162 Melrose Avenue   \n",
       "1  Hollywood Improv (The Main Room)   rZ7HnEZ178sj4  8162 Melrose Avenue   \n",
       "2                   Mercury Ballroom   KovZpZAEk7EA     611 S 4th Street   \n",
       "3  Hollywood Improv (The Main Room)   rZ7HnEZ178sj4  8162 Melrose Avenue   \n",
       "4  Hollywood Improv (The Main Room)   rZ7HnEZ178sj4  8162 Melrose Avenue   \n",
       "\n",
       "   VENUE_CITY VENUE_STATE_CODE VENUE_COUNTRY_CODE  VENUE_LATITUDE  \\\n",
       "0   Hollywood               CA                 US       34.083418   \n",
       "1   Hollywood               CA                 US       34.083418   \n",
       "2  Louisville               KY                 US       38.248514   \n",
       "3   Hollywood               CA                 US       34.083418   \n",
       "4   Hollywood               CA                 US       34.083418   \n",
       "\n",
       "   VENUE_LONGITUDE VENUE_ZIP_CODE       VENUE_TIMEZONE  \\\n",
       "0      -118.366556          90046  America/Los_Angeles   \n",
       "1      -118.366556          90046  America/Los_Angeles   \n",
       "2       -85.757890          40202     America/New_York   \n",
       "3      -118.366556          90046  America/Los_Angeles   \n",
       "4      -118.366556          90046  America/Los_Angeles   \n",
       "\n",
       "                                      ATTRACTION_URL  \\\n",
       "0                                                NaN   \n",
       "1                                                NaN   \n",
       "2  https://www.livenation.com/artist/K8vZ917boF0/...   \n",
       "3                                                NaN   \n",
       "4                                                NaN   \n",
       "\n",
       "                                           VENUE_URL  \\\n",
       "0  https://www.ticketweb.com/venue/hollywood-impr...   \n",
       "1  https://www.ticketweb.com/venue/hollywood-impr...   \n",
       "2  https://www.ticketmaster.com/mercury-ballroom-...   \n",
       "3  https://www.ticketweb.com/venue/hollywood-impr...   \n",
       "4  https://www.ticketweb.com/venue/hollywood-impr...   \n",
       "\n",
       "                                   PRIMARY_EVENT_URL  RESALE_EVENT_URL  \\\n",
       "0  https://www.ticketweb.com/event/tonight-at-the...               NaN   \n",
       "1  https://www.ticketweb.com/event/tonight-at-the...               NaN   \n",
       "2  https://concerts.livenation.com/kneecap-louisv...               NaN   \n",
       "3  https://www.ticketweb.com/event/tonight-at-the...               NaN   \n",
       "4  https://www.ticketweb.com/event/tonight-at-the...               NaN   \n",
       "\n",
       "   PRESALE_NAME  PRESALE_DATETIME_RANGE   LEGACY_EVENT_ID  LEGACY_VENUE_ID  \\\n",
       "0           NaN                     NaN    rZ7HnEZ1AfF6aK              NaN   \n",
       "1           NaN                     NaN    rZ7HnEZ1AfF6aN              NaN   \n",
       "2           NaN                     NaN  16006237ECCA4F60         180996.0   \n",
       "3           NaN                     NaN    rZ7HnEZ1AfF6aS              NaN   \n",
       "4           NaN                     NaN    rZ7HnEZ1AfF6ad              NaN   \n",
       "\n",
       "  LEGACY_ATTRACTION_ID                                     PRESALE_NAME.1  \\\n",
       "0                  NaN                                                NaN   \n",
       "1                  NaN                                                NaN   \n",
       "2              2661733  Live Nation Presale|Ticketmaster Presale|Venue...   \n",
       "3                  NaN                                                NaN   \n",
       "4                  NaN                                                NaN   \n",
       "\n",
       "  PRESALE_DESCRIPTION                             PRESALE_START_DATETIME  \\\n",
       "0                 NaN                                                NaN   \n",
       "1                 NaN                                                NaN   \n",
       "2                ||||  2025-01-30T15:00:00Z|2025-01-30T15:00:00Z|2025...   \n",
       "3                 NaN                                                NaN   \n",
       "4                 NaN                                                NaN   \n",
       "\n",
       "                                PRESALE_END_DATETIME        SOURCE  \\\n",
       "0                                                NaN     ticketweb   \n",
       "1                                                NaN     ticketweb   \n",
       "2  2025-01-31T03:00:00Z|2025-01-31T03:00:00Z|2025...  ticketmaster   \n",
       "3                                                NaN     ticketweb   \n",
       "4                                                NaN     ticketweb   \n",
       "\n",
       "  CLASSIFICATION_TYPE CLASSIFICATION_SUB_TYPE PROMOTER_ID      PROMOTER_NAME  \\\n",
       "0           Undefined               Undefined         NaN                NaN   \n",
       "1           Undefined               Undefined         NaN                NaN   \n",
       "2           Undefined               Undefined         653  LIVE NATION MUSIC   \n",
       "3           Undefined               Undefined         NaN                NaN   \n",
       "4           Undefined               Undefined         NaN                NaN   \n",
       "\n",
       "  CLASSIFICATION_SEGMENT_ID CLASSIFICATION_GENRE_ID  \\\n",
       "0        KZFzniwnSyZfZ7v7nl                     NaN   \n",
       "1        KZFzniwnSyZfZ7v7nl                     NaN   \n",
       "2        KZFzniwnSyZfZ7v7nJ             KnvZfZ7vAv1   \n",
       "3        KZFzniwnSyZfZ7v7nl                     NaN   \n",
       "4        KZFzniwnSyZfZ7v7nl                     NaN   \n",
       "\n",
       "  CLASSIFICATION_SUB_GENRE_ID CLASSIFICATION_TYPE_ID  \\\n",
       "0                         NaN        KZAyXgnZfZ7v7nI   \n",
       "1                         NaN        KZAyXgnZfZ7v7nI   \n",
       "2         KZazBEonSMnZfZ7vaa1        KZAyXgnZfZ7v7nI   \n",
       "3                         NaN        KZAyXgnZfZ7v7nI   \n",
       "4                         NaN        KZAyXgnZfZ7v7nI   \n",
       "\n",
       "  CLASSIFICATION_SUB_TYPE_ID ATTRACTION_CLASSIFICATION_SEGMENT_ID  \\\n",
       "0         KZFzBErXgnZfZ7v7lJ                                  NaN   \n",
       "1         KZFzBErXgnZfZ7v7lJ                                  NaN   \n",
       "2         KZFzBErXgnZfZ7v7lJ                   KZFzniwnSyZfZ7v7nJ   \n",
       "3         KZFzBErXgnZfZ7v7lJ                                  NaN   \n",
       "4         KZFzBErXgnZfZ7v7lJ                                  NaN   \n",
       "\n",
       "  ATTRACTION_CLASSIFICATION_SEGMENT ATTRACTION_CLASSIFICATION_GENRE_ID  \\\n",
       "0                               NaN                                NaN   \n",
       "1                               NaN                                NaN   \n",
       "2                             Music                        KnvZfZ7vAv1   \n",
       "3                               NaN                                NaN   \n",
       "4                               NaN                                NaN   \n",
       "\n",
       "  ATTRACTION_CLASSIFICATION_GENRE ATTRACTION_CLASSIFICATION_SUB_GENRE_ID  \\\n",
       "0                             NaN                                    NaN   \n",
       "1                             NaN                                    NaN   \n",
       "2                     Hip-Hop/Rap                    KZazBEonSMnZfZ7vkdA   \n",
       "3                             NaN                                    NaN   \n",
       "4                             NaN                                    NaN   \n",
       "\n",
       "  ATTRACTION_CLASSIFICATION_SUB_GENRE ATTRACTION_CLASSIFICATION_TYPE_ID  \\\n",
       "0                                 NaN                               NaN   \n",
       "1                                 NaN                               NaN   \n",
       "2                               Urban                   KZAyXgnZfZ7v7l1   \n",
       "3                                 NaN                               NaN   \n",
       "4                                 NaN                               NaN   \n",
       "\n",
       "  ATTRACTION_CLASSIFICATION_TYPE ATTRACTION_CLASSIFICATION_SUB_TYPE_ID  \\\n",
       "0                            NaN                                   NaN   \n",
       "1                            NaN                                   NaN   \n",
       "2                          Group                    KZFzBErXgnZfZ7vA71   \n",
       "3                            NaN                                   NaN   \n",
       "4                            NaN                                   NaN   \n",
       "\n",
       "  ATTRACTION_CLASSIFICATION_SUB_TYPE  MIN_PRICE_WITH_FEES  \\\n",
       "0                                NaN                  NaN   \n",
       "1                                NaN                  NaN   \n",
       "2                               Band                  NaN   \n",
       "3                                NaN                  NaN   \n",
       "4                                NaN                  NaN   \n",
       "\n",
       "   MAX_PRICE_WITH_FEES TRANSACTABLE  HOT_EVENT  \\\n",
       "0                  NaN          NaN      False   \n",
       "1                  NaN          NaN      False   \n",
       "2                  NaN         True      False   \n",
       "3                  NaN          NaN      False   \n",
       "4                  NaN          NaN      False   \n",
       "\n",
       "                           ACCESSIBLE_SEATING_DETAIL ADA_PHONE  \\\n",
       "0                                                NaN       NaN   \n",
       "1                                                NaN       NaN   \n",
       "2  For Handicapped Accessible seating, please cal...       NaN   \n",
       "3                                                NaN       NaN   \n",
       "4                                                NaN       NaN   \n",
       "\n",
       "  ADA_CUSTOM_COPY ADA_HOURS ACCESSIBILITY_INFO API_ONSALE_START_DATETIME  \\\n",
       "0             NaN       NaN                NaN      2025-01-20T22:00:00Z   \n",
       "1             NaN       NaN                NaN      2025-01-20T22:00:00Z   \n",
       "2             NaN       NaN                NaN      2025-01-31T16:00:00Z   \n",
       "3             NaN       NaN                NaN      2025-01-20T22:00:00Z   \n",
       "4             NaN       NaN                NaN      2025-01-20T22:00:00Z   \n",
       "\n",
       "                                         PLEASE_NOTE IMPORTANT_INFORMATION  \\\n",
       "0  This event is 21 and over. Any ticket holder u...                   NaN   \n",
       "1  This event is 21 and over. Any ticket holder u...                   NaN   \n",
       "2  The Mercury Ballroom is an all-ages, standing ...                   NaN   \n",
       "3  This event is 21 and over. Any ticket holder u...                   NaN   \n",
       "4  This event is 21 and over. Any ticket holder u...                   NaN   \n",
       "\n",
       "  EVENT_END_LOCAL_DATE  \n",
       "0                  NaN  \n",
       "1                  NaN  \n",
       "2                  NaN  \n",
       "3                  NaN  \n",
       "4                  NaN  "
      ]
     },
     "execution_count": 106,
     "metadata": {},
     "output_type": "execute_result"
    }
   ],
   "source": [
    "df.head()"
   ]
  },
  {
   "cell_type": "code",
   "execution_count": 107,
   "metadata": {},
   "outputs": [
    {
     "data": {
      "text/plain": [
       "Index(['EVENT_ID', 'EVENT_NAME', 'EVENT_NOTES', 'EVENT_INFO', 'EVENT_STATUS',\n",
       "       'EVENT_START_DATETIME', 'EVENT_END_DATETIME', 'EVENT_START_LOCAL_DATE',\n",
       "       'EVENT_START_LOCAL_TIME', 'ONSALE_START_DATETIME',\n",
       "       'ONSALE_END_DATETIME', 'CLASSIFICATION_SEGMENT', 'CLASSIFICATION_GENRE',\n",
       "       'CLASSIFICATION_SUB_GENRE', 'EVENT_IMAGE_URL', 'MIN_PRICE', 'MAX_PRICE',\n",
       "       'CURRENCY', 'ATTRACTION_NAME', 'ATTRACTION_ID', 'ATTRACTION_IMAGE_URL',\n",
       "       'VENUE_NAME', 'VENUE_ID', 'VENUE_STREET', 'VENUE_CITY',\n",
       "       'VENUE_STATE_CODE', 'VENUE_COUNTRY_CODE', 'VENUE_LATITUDE',\n",
       "       'VENUE_LONGITUDE', 'VENUE_ZIP_CODE', 'VENUE_TIMEZONE', 'ATTRACTION_URL',\n",
       "       'VENUE_URL', 'PRIMARY_EVENT_URL', 'RESALE_EVENT_URL', 'PRESALE_NAME',\n",
       "       'PRESALE_DATETIME_RANGE', 'LEGACY_EVENT_ID', 'LEGACY_VENUE_ID',\n",
       "       'LEGACY_ATTRACTION_ID', 'PRESALE_NAME.1', 'PRESALE_DESCRIPTION',\n",
       "       'PRESALE_START_DATETIME', 'PRESALE_END_DATETIME', 'SOURCE',\n",
       "       'CLASSIFICATION_TYPE', 'CLASSIFICATION_SUB_TYPE', 'PROMOTER_ID',\n",
       "       'PROMOTER_NAME', 'CLASSIFICATION_SEGMENT_ID', 'CLASSIFICATION_GENRE_ID',\n",
       "       'CLASSIFICATION_SUB_GENRE_ID', 'CLASSIFICATION_TYPE_ID',\n",
       "       'CLASSIFICATION_SUB_TYPE_ID', 'ATTRACTION_CLASSIFICATION_SEGMENT_ID',\n",
       "       'ATTRACTION_CLASSIFICATION_SEGMENT',\n",
       "       'ATTRACTION_CLASSIFICATION_GENRE_ID', 'ATTRACTION_CLASSIFICATION_GENRE',\n",
       "       'ATTRACTION_CLASSIFICATION_SUB_GENRE_ID',\n",
       "       'ATTRACTION_CLASSIFICATION_SUB_GENRE',\n",
       "       'ATTRACTION_CLASSIFICATION_TYPE_ID', 'ATTRACTION_CLASSIFICATION_TYPE',\n",
       "       'ATTRACTION_CLASSIFICATION_SUB_TYPE_ID',\n",
       "       'ATTRACTION_CLASSIFICATION_SUB_TYPE', 'MIN_PRICE_WITH_FEES',\n",
       "       'MAX_PRICE_WITH_FEES', 'TRANSACTABLE', 'HOT_EVENT',\n",
       "       'ACCESSIBLE_SEATING_DETAIL', 'ADA_PHONE', 'ADA_CUSTOM_COPY',\n",
       "       'ADA_HOURS', 'ACCESSIBILITY_INFO', 'API_ONSALE_START_DATETIME',\n",
       "       'PLEASE_NOTE', 'IMPORTANT_INFORMATION', 'EVENT_END_LOCAL_DATE'],\n",
       "      dtype='object')"
      ]
     },
     "execution_count": 107,
     "metadata": {},
     "output_type": "execute_result"
    }
   ],
   "source": [
    "# list the columns\n",
    "df.columns"
   ]
  },
  {
   "cell_type": "code",
   "execution_count": 108,
   "metadata": {},
   "outputs": [
    {
     "data": {
      "text/plain": [
       "EVENT_ID                                   object\n",
       "EVENT_NAME                                 object\n",
       "EVENT_NOTES                                object\n",
       "EVENT_INFO                                 object\n",
       "EVENT_STATUS                               object\n",
       "EVENT_START_DATETIME                       object\n",
       "EVENT_END_DATETIME                         object\n",
       "EVENT_START_LOCAL_DATE                     object\n",
       "EVENT_START_LOCAL_TIME                     object\n",
       "ONSALE_START_DATETIME                      object\n",
       "ONSALE_END_DATETIME                        object\n",
       "CLASSIFICATION_SEGMENT                     object\n",
       "CLASSIFICATION_GENRE                       object\n",
       "CLASSIFICATION_SUB_GENRE                   object\n",
       "EVENT_IMAGE_URL                            object\n",
       "MIN_PRICE                                 float64\n",
       "MAX_PRICE                                 float64\n",
       "CURRENCY                                   object\n",
       "ATTRACTION_NAME                            object\n",
       "ATTRACTION_ID                              object\n",
       "ATTRACTION_IMAGE_URL                       object\n",
       "VENUE_NAME                                 object\n",
       "VENUE_ID                                   object\n",
       "VENUE_STREET                               object\n",
       "VENUE_CITY                                 object\n",
       "VENUE_STATE_CODE                           object\n",
       "VENUE_COUNTRY_CODE                         object\n",
       "VENUE_LATITUDE                            float64\n",
       "VENUE_LONGITUDE                           float64\n",
       "VENUE_ZIP_CODE                             object\n",
       "VENUE_TIMEZONE                             object\n",
       "ATTRACTION_URL                             object\n",
       "VENUE_URL                                  object\n",
       "PRIMARY_EVENT_URL                          object\n",
       "RESALE_EVENT_URL                          float64\n",
       "PRESALE_NAME                              float64\n",
       "PRESALE_DATETIME_RANGE                    float64\n",
       "LEGACY_EVENT_ID                            object\n",
       "LEGACY_VENUE_ID                           float64\n",
       "LEGACY_ATTRACTION_ID                       object\n",
       "PRESALE_NAME.1                             object\n",
       "PRESALE_DESCRIPTION                        object\n",
       "PRESALE_START_DATETIME                     object\n",
       "PRESALE_END_DATETIME                       object\n",
       "SOURCE                                     object\n",
       "CLASSIFICATION_TYPE                        object\n",
       "CLASSIFICATION_SUB_TYPE                    object\n",
       "PROMOTER_ID                                object\n",
       "PROMOTER_NAME                              object\n",
       "CLASSIFICATION_SEGMENT_ID                  object\n",
       "CLASSIFICATION_GENRE_ID                    object\n",
       "CLASSIFICATION_SUB_GENRE_ID                object\n",
       "CLASSIFICATION_TYPE_ID                     object\n",
       "CLASSIFICATION_SUB_TYPE_ID                 object\n",
       "ATTRACTION_CLASSIFICATION_SEGMENT_ID       object\n",
       "ATTRACTION_CLASSIFICATION_SEGMENT          object\n",
       "ATTRACTION_CLASSIFICATION_GENRE_ID         object\n",
       "ATTRACTION_CLASSIFICATION_GENRE            object\n",
       "ATTRACTION_CLASSIFICATION_SUB_GENRE_ID     object\n",
       "ATTRACTION_CLASSIFICATION_SUB_GENRE        object\n",
       "ATTRACTION_CLASSIFICATION_TYPE_ID          object\n",
       "ATTRACTION_CLASSIFICATION_TYPE             object\n",
       "ATTRACTION_CLASSIFICATION_SUB_TYPE_ID      object\n",
       "ATTRACTION_CLASSIFICATION_SUB_TYPE         object\n",
       "MIN_PRICE_WITH_FEES                       float64\n",
       "MAX_PRICE_WITH_FEES                       float64\n",
       "TRANSACTABLE                               object\n",
       "HOT_EVENT                                    bool\n",
       "ACCESSIBLE_SEATING_DETAIL                  object\n",
       "ADA_PHONE                                  object\n",
       "ADA_CUSTOM_COPY                            object\n",
       "ADA_HOURS                                  object\n",
       "ACCESSIBILITY_INFO                         object\n",
       "API_ONSALE_START_DATETIME                  object\n",
       "PLEASE_NOTE                                object\n",
       "IMPORTANT_INFORMATION                      object\n",
       "EVENT_END_LOCAL_DATE                       object\n",
       "dtype: object"
      ]
     },
     "execution_count": 108,
     "metadata": {},
     "output_type": "execute_result"
    }
   ],
   "source": [
    "# list the data types\n",
    "pd.set_option('display.max_rows', 300)\n",
    "\n",
    "df.dtypes"
   ]
  },
  {
   "cell_type": "code",
   "execution_count": 109,
   "metadata": {},
   "outputs": [
    {
     "data": {
      "text/html": [
       "<div>\n",
       "<style scoped>\n",
       "    .dataframe tbody tr th:only-of-type {\n",
       "        vertical-align: middle;\n",
       "    }\n",
       "\n",
       "    .dataframe tbody tr th {\n",
       "        vertical-align: top;\n",
       "    }\n",
       "\n",
       "    .dataframe thead th {\n",
       "        text-align: right;\n",
       "    }\n",
       "</style>\n",
       "<table border=\"1\" class=\"dataframe\">\n",
       "  <thead>\n",
       "    <tr style=\"text-align: right;\">\n",
       "      <th></th>\n",
       "      <th>MIN_PRICE</th>\n",
       "      <th>MAX_PRICE</th>\n",
       "      <th>VENUE_LATITUDE</th>\n",
       "      <th>VENUE_LONGITUDE</th>\n",
       "      <th>RESALE_EVENT_URL</th>\n",
       "      <th>PRESALE_NAME</th>\n",
       "      <th>PRESALE_DATETIME_RANGE</th>\n",
       "      <th>LEGACY_VENUE_ID</th>\n",
       "      <th>MIN_PRICE_WITH_FEES</th>\n",
       "      <th>MAX_PRICE_WITH_FEES</th>\n",
       "    </tr>\n",
       "  </thead>\n",
       "  <tbody>\n",
       "    <tr>\n",
       "      <th>count</th>\n",
       "      <td>58248.000000</td>\n",
       "      <td>58248.000000</td>\n",
       "      <td>100651.000000</td>\n",
       "      <td>100651.000000</td>\n",
       "      <td>0.0</td>\n",
       "      <td>0.0</td>\n",
       "      <td>0.0</td>\n",
       "      <td>65411.000000</td>\n",
       "      <td>0.0</td>\n",
       "      <td>0.0</td>\n",
       "    </tr>\n",
       "    <tr>\n",
       "      <th>mean</th>\n",
       "      <td>44.227504</td>\n",
       "      <td>135.853050</td>\n",
       "      <td>37.600788</td>\n",
       "      <td>-94.584080</td>\n",
       "      <td>NaN</td>\n",
       "      <td>NaN</td>\n",
       "      <td>NaN</td>\n",
       "      <td>216949.320940</td>\n",
       "      <td>NaN</td>\n",
       "      <td>NaN</td>\n",
       "    </tr>\n",
       "    <tr>\n",
       "      <th>std</th>\n",
       "      <td>41.013562</td>\n",
       "      <td>405.705909</td>\n",
       "      <td>4.710309</td>\n",
       "      <td>18.985736</td>\n",
       "      <td>NaN</td>\n",
       "      <td>NaN</td>\n",
       "      <td>NaN</td>\n",
       "      <td>159047.572062</td>\n",
       "      <td>NaN</td>\n",
       "      <td>NaN</td>\n",
       "    </tr>\n",
       "    <tr>\n",
       "      <th>min</th>\n",
       "      <td>0.000000</td>\n",
       "      <td>0.000000</td>\n",
       "      <td>-87.713192</td>\n",
       "      <td>-159.371111</td>\n",
       "      <td>NaN</td>\n",
       "      <td>NaN</td>\n",
       "      <td>NaN</td>\n",
       "      <td>6.000000</td>\n",
       "      <td>NaN</td>\n",
       "      <td>NaN</td>\n",
       "    </tr>\n",
       "    <tr>\n",
       "      <th>25%</th>\n",
       "      <td>24.750000</td>\n",
       "      <td>35.250000</td>\n",
       "      <td>35.964436</td>\n",
       "      <td>-115.170811</td>\n",
       "      <td>NaN</td>\n",
       "      <td>NaN</td>\n",
       "      <td>NaN</td>\n",
       "      <td>57789.500000</td>\n",
       "      <td>NaN</td>\n",
       "      <td>NaN</td>\n",
       "    </tr>\n",
       "    <tr>\n",
       "      <th>50%</th>\n",
       "      <td>38.600000</td>\n",
       "      <td>75.000000</td>\n",
       "      <td>37.775500</td>\n",
       "      <td>-88.377197</td>\n",
       "      <td>NaN</td>\n",
       "      <td>NaN</td>\n",
       "      <td>NaN</td>\n",
       "      <td>189524.000000</td>\n",
       "      <td>NaN</td>\n",
       "      <td>NaN</td>\n",
       "    </tr>\n",
       "    <tr>\n",
       "      <th>75%</th>\n",
       "      <td>55.000000</td>\n",
       "      <td>127.000000</td>\n",
       "      <td>40.759977</td>\n",
       "      <td>-76.245201</td>\n",
       "      <td>NaN</td>\n",
       "      <td>NaN</td>\n",
       "      <td>NaN</td>\n",
       "      <td>376840.000000</td>\n",
       "      <td>NaN</td>\n",
       "      <td>NaN</td>\n",
       "    </tr>\n",
       "    <tr>\n",
       "      <th>max</th>\n",
       "      <td>3216.000000</td>\n",
       "      <td>21000.000000</td>\n",
       "      <td>63.588753</td>\n",
       "      <td>122.269633</td>\n",
       "      <td>NaN</td>\n",
       "      <td>NaN</td>\n",
       "      <td>NaN</td>\n",
       "      <td>491609.000000</td>\n",
       "      <td>NaN</td>\n",
       "      <td>NaN</td>\n",
       "    </tr>\n",
       "  </tbody>\n",
       "</table>\n",
       "</div>"
      ],
      "text/plain": [
       "          MIN_PRICE     MAX_PRICE  VENUE_LATITUDE  VENUE_LONGITUDE  \\\n",
       "count  58248.000000  58248.000000   100651.000000    100651.000000   \n",
       "mean      44.227504    135.853050       37.600788       -94.584080   \n",
       "std       41.013562    405.705909        4.710309        18.985736   \n",
       "min        0.000000      0.000000      -87.713192      -159.371111   \n",
       "25%       24.750000     35.250000       35.964436      -115.170811   \n",
       "50%       38.600000     75.000000       37.775500       -88.377197   \n",
       "75%       55.000000    127.000000       40.759977       -76.245201   \n",
       "max     3216.000000  21000.000000       63.588753       122.269633   \n",
       "\n",
       "       RESALE_EVENT_URL  PRESALE_NAME  PRESALE_DATETIME_RANGE  \\\n",
       "count               0.0           0.0                     0.0   \n",
       "mean                NaN           NaN                     NaN   \n",
       "std                 NaN           NaN                     NaN   \n",
       "min                 NaN           NaN                     NaN   \n",
       "25%                 NaN           NaN                     NaN   \n",
       "50%                 NaN           NaN                     NaN   \n",
       "75%                 NaN           NaN                     NaN   \n",
       "max                 NaN           NaN                     NaN   \n",
       "\n",
       "       LEGACY_VENUE_ID  MIN_PRICE_WITH_FEES  MAX_PRICE_WITH_FEES  \n",
       "count     65411.000000                  0.0                  0.0  \n",
       "mean     216949.320940                  NaN                  NaN  \n",
       "std      159047.572062                  NaN                  NaN  \n",
       "min           6.000000                  NaN                  NaN  \n",
       "25%       57789.500000                  NaN                  NaN  \n",
       "50%      189524.000000                  NaN                  NaN  \n",
       "75%      376840.000000                  NaN                  NaN  \n",
       "max      491609.000000                  NaN                  NaN  "
      ]
     },
     "execution_count": 109,
     "metadata": {},
     "output_type": "execute_result"
    }
   ],
   "source": [
    "# info and stats about data set\n",
    "df.describe()"
   ]
  },
  {
   "cell_type": "markdown",
   "metadata": {},
   "source": [
    "Data Preparation"
   ]
  },
  {
   "cell_type": "code",
   "execution_count": 110,
   "metadata": {},
   "outputs": [
    {
     "data": {
      "text/html": [
       "<div>\n",
       "<style scoped>\n",
       "    .dataframe tbody tr th:only-of-type {\n",
       "        vertical-align: middle;\n",
       "    }\n",
       "\n",
       "    .dataframe tbody tr th {\n",
       "        vertical-align: top;\n",
       "    }\n",
       "\n",
       "    .dataframe thead th {\n",
       "        text-align: right;\n",
       "    }\n",
       "</style>\n",
       "<table border=\"1\" class=\"dataframe\">\n",
       "  <thead>\n",
       "    <tr style=\"text-align: right;\">\n",
       "      <th></th>\n",
       "      <th>EVENT_ID</th>\n",
       "      <th>EVENT_NAME</th>\n",
       "      <th>EVENT_START_LOCAL_DATE</th>\n",
       "      <th>MAX_PRICE</th>\n",
       "      <th>VENUE_NAME</th>\n",
       "      <th>VENUE_STATE_CODE</th>\n",
       "    </tr>\n",
       "  </thead>\n",
       "  <tbody>\n",
       "    <tr>\n",
       "      <th>0</th>\n",
       "      <td>rZ7HnEZ1AfF6aK</td>\n",
       "      <td>Tonight at the Improv!</td>\n",
       "      <td>2025-03-01</td>\n",
       "      <td>29.34</td>\n",
       "      <td>Hollywood Improv (The Main Room)</td>\n",
       "      <td>CA</td>\n",
       "    </tr>\n",
       "    <tr>\n",
       "      <th>1</th>\n",
       "      <td>rZ7HnEZ1AfF6aN</td>\n",
       "      <td>Tonight at the Improv!</td>\n",
       "      <td>2025-03-08</td>\n",
       "      <td>29.34</td>\n",
       "      <td>Hollywood Improv (The Main Room)</td>\n",
       "      <td>CA</td>\n",
       "    </tr>\n",
       "    <tr>\n",
       "      <th>2</th>\n",
       "      <td>1ApZkFMGkdiw0WO</td>\n",
       "      <td>Kneecap</td>\n",
       "      <td>2025-10-03</td>\n",
       "      <td>39.50</td>\n",
       "      <td>Mercury Ballroom</td>\n",
       "      <td>KY</td>\n",
       "    </tr>\n",
       "    <tr>\n",
       "      <th>3</th>\n",
       "      <td>rZ7HnEZ1AfF6aS</td>\n",
       "      <td>Tonight at the Improv!</td>\n",
       "      <td>2025-03-29</td>\n",
       "      <td>29.34</td>\n",
       "      <td>Hollywood Improv (The Main Room)</td>\n",
       "      <td>CA</td>\n",
       "    </tr>\n",
       "    <tr>\n",
       "      <th>4</th>\n",
       "      <td>rZ7HnEZ1AfF6ad</td>\n",
       "      <td>Tonight at the Improv!</td>\n",
       "      <td>2025-03-07</td>\n",
       "      <td>19.04</td>\n",
       "      <td>Hollywood Improv (The Main Room)</td>\n",
       "      <td>CA</td>\n",
       "    </tr>\n",
       "  </tbody>\n",
       "</table>\n",
       "</div>"
      ],
      "text/plain": [
       "          EVENT_ID              EVENT_NAME EVENT_START_LOCAL_DATE  MAX_PRICE  \\\n",
       "0   rZ7HnEZ1AfF6aK  Tonight at the Improv!             2025-03-01      29.34   \n",
       "1   rZ7HnEZ1AfF6aN  Tonight at the Improv!             2025-03-08      29.34   \n",
       "2  1ApZkFMGkdiw0WO                 Kneecap             2025-10-03      39.50   \n",
       "3   rZ7HnEZ1AfF6aS  Tonight at the Improv!             2025-03-29      29.34   \n",
       "4   rZ7HnEZ1AfF6ad  Tonight at the Improv!             2025-03-07      19.04   \n",
       "\n",
       "                          VENUE_NAME VENUE_STATE_CODE  \n",
       "0  Hollywood Improv (The Main Room)                CA  \n",
       "1  Hollywood Improv (The Main Room)                CA  \n",
       "2                   Mercury Ballroom               KY  \n",
       "3  Hollywood Improv (The Main Room)                CA  \n",
       "4  Hollywood Improv (The Main Room)                CA  "
      ]
     },
     "execution_count": 110,
     "metadata": {},
     "output_type": "execute_result"
    }
   ],
   "source": [
    "# filter to keep or toss columns, as needed. Comment out the unnecessary columns.\n",
    "# reassign DataFrame to be the subsetted DataFrame with only the columns needed.\n",
    "# add copy command at end to let Python know this is a new DataFrame, not a reference to the original.\n",
    "\n",
    "df = df[['EVENT_ID', 'EVENT_NAME', \n",
    "       #'EVENT_NOTES', 'EVENT_INFO', 'EVENT_STATUS',\n",
    "       #'EVENT_START_DATETIME', 'EVENT_END_DATETIME', \n",
    "       'EVENT_START_LOCAL_DATE',\n",
    "       #'EVENT_START_LOCAL_TIME', 'ONSALE_START_DATETIME',\n",
    "       #'ONSALE_END_DATETIME', 'CLASSIFICATION_SEGMENT', 'CLASSIFICATION_GENRE',\n",
    "       #'CLASSIFICATION_SUB_GENRE', 'EVENT_IMAGE_URL', 'MIN_PRICE', \n",
    "       'MAX_PRICE',\n",
    "       #'CURRENCY', 'ATTRACTION_NAME', 'ATTRACTION_ID', 'ATTRACTION_IMAGE_URL',\n",
    "       'VENUE_NAME', \n",
    "       #'VENUE_ID', 'VENUE_STREET', 'VENUE_CITY',\n",
    "       'VENUE_STATE_CODE']].copy()\n",
    "       #, 'VENUE_COUNTRY_CODE', 'VENUE_LATITUDE',\n",
    "       #'VENUE_LONGITUDE', 'VENUE_ZIP_CODE', 'VENUE_TIMEZONE', 'ATTRACTION_URL',\n",
    "       #'VENUE_URL', 'PRIMARY_EVENT_URL', 'RESALE_EVENT_URL', 'PRESALE_NAME',\n",
    "       #'PRESALE_DATETIME_RANGE', 'LEGACY_EVENT_ID', 'LEGACY_VENUE_ID',\n",
    "       #'LEGACY_ATTRACTION_ID', 'PRESALE_NAME.1', 'PRESALE_DESCRIPTION',\n",
    "       #'PRESALE_START_DATETIME', 'PRESALE_END_DATETIME', 'SOURCE',\n",
    "       #'CLASSIFICATION_TYPE', 'CLASSIFICATION_SUB_TYPE', 'PROMOTER_ID',\n",
    "       #'PROMOTER_NAME', 'CLASSIFICATION_SEGMENT_ID', 'CLASSIFICATION_GENRE_ID',\n",
    "       #'CLASSIFICATION_SUB_GENRE_ID', 'CLASSIFICATION_TYPE_ID',\n",
    "       #'CLASSIFICATION_SUB_TYPE_ID', 'ATTRACTION_CLASSIFICATION_SEGMENT_ID',\n",
    "       #'ATTRACTION_CLASSIFICATION_SEGMENT',\n",
    "       #'ATTRACTION_CLASSIFICATION_GENRE_ID', 'ATTRACTION_CLASSIFICATION_GENRE',\n",
    "       #'ATTRACTION_CLASSIFICATION_SUB_GENRE_ID',\n",
    "       #'ATTRACTION_CLASSIFICATION_SUB_GENRE',\n",
    "       #'ATTRACTION_CLASSIFICATION_TYPE_ID', 'ATTRACTION_CLASSIFICATION_TYPE',\n",
    "       #'ATTRACTION_CLASSIFICATION_SUB_TYPE_ID',\n",
    "       #'ATTRACTION_CLASSIFICATION_SUB_TYPE', 'MIN_PRICE_WITH_FEES',\n",
    "       #'MAX_PRICE_WITH_FEES', 'TRANSACTABLE', 'HOT_EVENT',\n",
    "       #'ACCESSIBLE_SEATING_DETAIL', 'ADA_PHONE', 'ADA_CUSTOM_COPY',\n",
    "       #'ADA_HOURS', 'ACCESSIBILITY_INFO', 'API_ONSALE_START_DATETIME',\n",
    "       #'PLEASE_NOTE', 'IMPORTANT_INFORMATION', 'EVENT_END_LOCAL_DATE',\n",
    "\n",
    "df.head()\n",
    "       "
   ]
  },
  {
   "cell_type": "code",
   "execution_count": 111,
   "metadata": {},
   "outputs": [
    {
     "data": {
      "text/plain": [
       "EVENT_ID                   object\n",
       "EVENT_NAME                 object\n",
       "EVENT_START_LOCAL_DATE     object\n",
       "MAX_PRICE                 float64\n",
       "VENUE_NAME                 object\n",
       "VENUE_STATE_CODE           object\n",
       "dtype: object"
      ]
     },
     "execution_count": 111,
     "metadata": {},
     "output_type": "execute_result"
    }
   ],
   "source": [
    "# double-check data types\n",
    "df.dtypes"
   ]
  },
  {
   "cell_type": "code",
   "execution_count": 112,
   "metadata": {},
   "outputs": [
    {
     "data": {
      "text/html": [
       "<div>\n",
       "<style scoped>\n",
       "    .dataframe tbody tr th:only-of-type {\n",
       "        vertical-align: middle;\n",
       "    }\n",
       "\n",
       "    .dataframe tbody tr th {\n",
       "        vertical-align: top;\n",
       "    }\n",
       "\n",
       "    .dataframe thead th {\n",
       "        text-align: right;\n",
       "    }\n",
       "</style>\n",
       "<table border=\"1\" class=\"dataframe\">\n",
       "  <thead>\n",
       "    <tr style=\"text-align: right;\">\n",
       "      <th></th>\n",
       "      <th>EVENT_ID</th>\n",
       "      <th>EVENT</th>\n",
       "      <th>DATE</th>\n",
       "      <th>MAX_PRICE</th>\n",
       "      <th>VENUE</th>\n",
       "      <th>STATE</th>\n",
       "    </tr>\n",
       "  </thead>\n",
       "  <tbody>\n",
       "    <tr>\n",
       "      <th>0</th>\n",
       "      <td>rZ7HnEZ1AfF6aK</td>\n",
       "      <td>Tonight at the Improv!</td>\n",
       "      <td>2025-03-01</td>\n",
       "      <td>29.34</td>\n",
       "      <td>Hollywood Improv (The Main Room)</td>\n",
       "      <td>CA</td>\n",
       "    </tr>\n",
       "    <tr>\n",
       "      <th>1</th>\n",
       "      <td>rZ7HnEZ1AfF6aN</td>\n",
       "      <td>Tonight at the Improv!</td>\n",
       "      <td>2025-03-08</td>\n",
       "      <td>29.34</td>\n",
       "      <td>Hollywood Improv (The Main Room)</td>\n",
       "      <td>CA</td>\n",
       "    </tr>\n",
       "    <tr>\n",
       "      <th>2</th>\n",
       "      <td>1ApZkFMGkdiw0WO</td>\n",
       "      <td>Kneecap</td>\n",
       "      <td>2025-10-03</td>\n",
       "      <td>39.50</td>\n",
       "      <td>Mercury Ballroom</td>\n",
       "      <td>KY</td>\n",
       "    </tr>\n",
       "    <tr>\n",
       "      <th>3</th>\n",
       "      <td>rZ7HnEZ1AfF6aS</td>\n",
       "      <td>Tonight at the Improv!</td>\n",
       "      <td>2025-03-29</td>\n",
       "      <td>29.34</td>\n",
       "      <td>Hollywood Improv (The Main Room)</td>\n",
       "      <td>CA</td>\n",
       "    </tr>\n",
       "    <tr>\n",
       "      <th>4</th>\n",
       "      <td>rZ7HnEZ1AfF6ad</td>\n",
       "      <td>Tonight at the Improv!</td>\n",
       "      <td>2025-03-07</td>\n",
       "      <td>19.04</td>\n",
       "      <td>Hollywood Improv (The Main Room)</td>\n",
       "      <td>CA</td>\n",
       "    </tr>\n",
       "  </tbody>\n",
       "</table>\n",
       "</div>"
      ],
      "text/plain": [
       "          EVENT_ID                   EVENT        DATE  MAX_PRICE  \\\n",
       "0   rZ7HnEZ1AfF6aK  Tonight at the Improv!  2025-03-01      29.34   \n",
       "1   rZ7HnEZ1AfF6aN  Tonight at the Improv!  2025-03-08      29.34   \n",
       "2  1ApZkFMGkdiw0WO                 Kneecap  2025-10-03      39.50   \n",
       "3   rZ7HnEZ1AfF6aS  Tonight at the Improv!  2025-03-29      29.34   \n",
       "4   rZ7HnEZ1AfF6ad  Tonight at the Improv!  2025-03-07      19.04   \n",
       "\n",
       "                               VENUE STATE  \n",
       "0  Hollywood Improv (The Main Room)     CA  \n",
       "1  Hollywood Improv (The Main Room)     CA  \n",
       "2                   Mercury Ballroom    KY  \n",
       "3  Hollywood Improv (The Main Room)     CA  \n",
       "4  Hollywood Improv (The Main Room)     CA  "
      ]
     },
     "execution_count": 112,
     "metadata": {},
     "output_type": "execute_result"
    }
   ],
   "source": [
    "# Rename columns\n",
    "df = df.rename(columns={'EVENT_NAME': 'EVENT',\n",
    "                        'EVENT_START_LOCAL_DATE': 'DATE',\n",
    "                        'VENUE_NAME': 'VENUE',\n",
    "                        'VENUE_STATE_CODE': 'STATE'})\n",
    "\n",
    "df.head()"
   ]
  },
  {
   "cell_type": "code",
   "execution_count": 113,
   "metadata": {},
   "outputs": [],
   "source": [
    "# change DATE dtype to datetime format\n",
    "df[\"DATE\"] = pd.to_datetime(df[\"DATE\"])"
   ]
  },
  {
   "cell_type": "code",
   "execution_count": 114,
   "metadata": {},
   "outputs": [
    {
     "data": {
      "text/plain": [
       "0        2025-03-01\n",
       "1        2025-03-08\n",
       "2        2025-10-03\n",
       "3        2025-03-29\n",
       "4        2025-03-07\n",
       "            ...    \n",
       "100708   2025-03-05\n",
       "100709   2025-03-03\n",
       "100710   2025-03-15\n",
       "100711   2025-04-19\n",
       "100712   2025-09-14\n",
       "Name: DATE, Length: 100713, dtype: datetime64[ns]"
      ]
     },
     "execution_count": 114,
     "metadata": {},
     "output_type": "execute_result"
    }
   ],
   "source": [
    "df[\"DATE\"]"
   ]
  },
  {
   "cell_type": "code",
   "execution_count": 115,
   "metadata": {},
   "outputs": [
    {
     "data": {
      "text/plain": [
       "EVENT_ID             object\n",
       "EVENT                object\n",
       "DATE         datetime64[ns]\n",
       "MAX_PRICE           float64\n",
       "VENUE                object\n",
       "STATE                object\n",
       "dtype: object"
      ]
     },
     "execution_count": 115,
     "metadata": {},
     "output_type": "execute_result"
    }
   ],
   "source": [
    "# re-check data types\n",
    "df.dtypes"
   ]
  },
  {
   "cell_type": "code",
   "execution_count": 116,
   "metadata": {},
   "outputs": [
    {
     "data": {
      "text/html": [
       "<div>\n",
       "<style scoped>\n",
       "    .dataframe tbody tr th:only-of-type {\n",
       "        vertical-align: middle;\n",
       "    }\n",
       "\n",
       "    .dataframe tbody tr th {\n",
       "        vertical-align: top;\n",
       "    }\n",
       "\n",
       "    .dataframe thead th {\n",
       "        text-align: right;\n",
       "    }\n",
       "</style>\n",
       "<table border=\"1\" class=\"dataframe\">\n",
       "  <thead>\n",
       "    <tr style=\"text-align: right;\">\n",
       "      <th></th>\n",
       "      <th>EVENT_ID</th>\n",
       "      <th>EVENT</th>\n",
       "      <th>DATE</th>\n",
       "      <th>MAX_PRICE</th>\n",
       "      <th>VENUE</th>\n",
       "      <th>STATE</th>\n",
       "    </tr>\n",
       "  </thead>\n",
       "  <tbody>\n",
       "    <tr>\n",
       "      <th>0</th>\n",
       "      <td>rZ7HnEZ1AfF6aK</td>\n",
       "      <td>Tonight at the Improv!</td>\n",
       "      <td>2025-03-01</td>\n",
       "      <td>29.34</td>\n",
       "      <td>Hollywood Improv (The Main Room)</td>\n",
       "      <td>CA</td>\n",
       "    </tr>\n",
       "    <tr>\n",
       "      <th>1</th>\n",
       "      <td>rZ7HnEZ1AfF6aN</td>\n",
       "      <td>Tonight at the Improv!</td>\n",
       "      <td>2025-03-08</td>\n",
       "      <td>29.34</td>\n",
       "      <td>Hollywood Improv (The Main Room)</td>\n",
       "      <td>CA</td>\n",
       "    </tr>\n",
       "    <tr>\n",
       "      <th>2</th>\n",
       "      <td>1ApZkFMGkdiw0WO</td>\n",
       "      <td>Kneecap</td>\n",
       "      <td>2025-10-03</td>\n",
       "      <td>39.50</td>\n",
       "      <td>Mercury Ballroom</td>\n",
       "      <td>KY</td>\n",
       "    </tr>\n",
       "    <tr>\n",
       "      <th>3</th>\n",
       "      <td>rZ7HnEZ1AfF6aS</td>\n",
       "      <td>Tonight at the Improv!</td>\n",
       "      <td>2025-03-29</td>\n",
       "      <td>29.34</td>\n",
       "      <td>Hollywood Improv (The Main Room)</td>\n",
       "      <td>CA</td>\n",
       "    </tr>\n",
       "    <tr>\n",
       "      <th>4</th>\n",
       "      <td>rZ7HnEZ1AfF6ad</td>\n",
       "      <td>Tonight at the Improv!</td>\n",
       "      <td>2025-03-07</td>\n",
       "      <td>19.04</td>\n",
       "      <td>Hollywood Improv (The Main Room)</td>\n",
       "      <td>CA</td>\n",
       "    </tr>\n",
       "    <tr>\n",
       "      <th>5</th>\n",
       "      <td>G5ezZb8MgIPuh</td>\n",
       "      <td>Cirque du Soleil : \"O\"</td>\n",
       "      <td>2025-05-10</td>\n",
       "      <td>276.14</td>\n",
       "      <td>'O' Theatre at Bellagio Las Vegas</td>\n",
       "      <td>NV</td>\n",
       "    </tr>\n",
       "    <tr>\n",
       "      <th>6</th>\n",
       "      <td>1avjZbx8ouIZd271</td>\n",
       "      <td>The Mentalist</td>\n",
       "      <td>2025-08-25</td>\n",
       "      <td>59.98</td>\n",
       "      <td>V Theater at Planet Hollywood Inside the Mirac...</td>\n",
       "      <td>NV</td>\n",
       "    </tr>\n",
       "    <tr>\n",
       "      <th>7</th>\n",
       "      <td>vv1keZv-4YGA1U7Bv</td>\n",
       "      <td>Gutfeld Live '25 Featuring Greg Gutfeld &amp; spec...</td>\n",
       "      <td>2025-06-07</td>\n",
       "      <td>89.50</td>\n",
       "      <td>Van Andel Arena</td>\n",
       "      <td>MI</td>\n",
       "    </tr>\n",
       "    <tr>\n",
       "      <th>8</th>\n",
       "      <td>k7vGFb8zt7yQJ</td>\n",
       "      <td>Irish Celebration Starring Andy Cooney</td>\n",
       "      <td>2025-03-02</td>\n",
       "      <td>79.50</td>\n",
       "      <td>Flagstar at Westbury Music Fair</td>\n",
       "      <td>NY</td>\n",
       "    </tr>\n",
       "    <tr>\n",
       "      <th>9</th>\n",
       "      <td>15vjZbx8KayCZ</td>\n",
       "      <td>The Mentalist</td>\n",
       "      <td>2025-11-07</td>\n",
       "      <td>59.98</td>\n",
       "      <td>V Theater at Planet Hollywood Inside the Mirac...</td>\n",
       "      <td>NV</td>\n",
       "    </tr>\n",
       "    <tr>\n",
       "      <th>10</th>\n",
       "      <td>vvG1VZb41CZdEo</td>\n",
       "      <td>bbno$: it's pronounced baby no money</td>\n",
       "      <td>2025-03-01</td>\n",
       "      <td>22.50</td>\n",
       "      <td>The Ritz Ybor</td>\n",
       "      <td>FL</td>\n",
       "    </tr>\n",
       "    <tr>\n",
       "      <th>11</th>\n",
       "      <td>k7vGFb45tn6T5</td>\n",
       "      <td>Jordana</td>\n",
       "      <td>2025-02-22</td>\n",
       "      <td>20.00</td>\n",
       "      <td>Bowery Ballroom</td>\n",
       "      <td>NY</td>\n",
       "    </tr>\n",
       "    <tr>\n",
       "      <th>13</th>\n",
       "      <td>1kGZv-G9GACN322</td>\n",
       "      <td>Singfeld! A Musical About Nothing!</td>\n",
       "      <td>2025-03-23</td>\n",
       "      <td>47.50</td>\n",
       "      <td>The Theater Center</td>\n",
       "      <td>NY</td>\n",
       "    </tr>\n",
       "    <tr>\n",
       "      <th>14</th>\n",
       "      <td>G5dIZbxha3euU</td>\n",
       "      <td>Chaparelle</td>\n",
       "      <td>2025-04-04</td>\n",
       "      <td>25.00</td>\n",
       "      <td>Scoot Inn</td>\n",
       "      <td>TX</td>\n",
       "    </tr>\n",
       "    <tr>\n",
       "      <th>15</th>\n",
       "      <td>16vjZbx8ZG7M92V</td>\n",
       "      <td>Zombie Burlesque</td>\n",
       "      <td>2025-04-09</td>\n",
       "      <td>79.98</td>\n",
       "      <td>V Theater at Planet Hollywood Inside the Mirac...</td>\n",
       "      <td>NV</td>\n",
       "    </tr>\n",
       "    <tr>\n",
       "      <th>16</th>\n",
       "      <td>1Ad0ZbpGkmd0Z0N</td>\n",
       "      <td>Vicki Barbolak At Jimmy Kimmel's Comedy Club</td>\n",
       "      <td>2025-02-18</td>\n",
       "      <td>55.44</td>\n",
       "      <td>Jimmy Kimmel's Comedy Club</td>\n",
       "      <td>NV</td>\n",
       "    </tr>\n",
       "    <tr>\n",
       "      <th>17</th>\n",
       "      <td>rZ7HnEZ1AfF6ZK</td>\n",
       "      <td>Ace Frehley</td>\n",
       "      <td>2025-06-15</td>\n",
       "      <td>1238.50</td>\n",
       "      <td>Whisky A Go Go</td>\n",
       "      <td>CA</td>\n",
       "    </tr>\n",
       "    <tr>\n",
       "      <th>18</th>\n",
       "      <td>rZ7HnEZ1AfF6ZS</td>\n",
       "      <td>Laurel Street | Alex Crossland</td>\n",
       "      <td>2025-02-14</td>\n",
       "      <td>13.61</td>\n",
       "      <td>Berlin</td>\n",
       "      <td>NY</td>\n",
       "    </tr>\n",
       "    <tr>\n",
       "      <th>19</th>\n",
       "      <td>1AeFZboGkR49eJs</td>\n",
       "      <td>BFA Dance Showcase</td>\n",
       "      <td>2025-02-22</td>\n",
       "      <td>7.00</td>\n",
       "      <td>McGuire Pavilion Black Box Theatre</td>\n",
       "      <td>FL</td>\n",
       "    </tr>\n",
       "    <tr>\n",
       "      <th>20</th>\n",
       "      <td>vv1AFZk7NGkdApwcE</td>\n",
       "      <td>Motor City Cruise vs. Maine Celtics</td>\n",
       "      <td>2025-02-25</td>\n",
       "      <td>150.00</td>\n",
       "      <td>Wayne State Fieldhouse</td>\n",
       "      <td>MI</td>\n",
       "    </tr>\n",
       "  </tbody>\n",
       "</table>\n",
       "</div>"
      ],
      "text/plain": [
       "             EVENT_ID                                              EVENT  \\\n",
       "0      rZ7HnEZ1AfF6aK                             Tonight at the Improv!   \n",
       "1      rZ7HnEZ1AfF6aN                             Tonight at the Improv!   \n",
       "2     1ApZkFMGkdiw0WO                                            Kneecap   \n",
       "3      rZ7HnEZ1AfF6aS                             Tonight at the Improv!   \n",
       "4      rZ7HnEZ1AfF6ad                             Tonight at the Improv!   \n",
       "5       G5ezZb8MgIPuh                             Cirque du Soleil : \"O\"   \n",
       "6    1avjZbx8ouIZd271                                      The Mentalist   \n",
       "7   vv1keZv-4YGA1U7Bv  Gutfeld Live '25 Featuring Greg Gutfeld & spec...   \n",
       "8       k7vGFb8zt7yQJ             Irish Celebration Starring Andy Cooney   \n",
       "9       15vjZbx8KayCZ                                      The Mentalist   \n",
       "10     vvG1VZb41CZdEo               bbno$: it's pronounced baby no money   \n",
       "11      k7vGFb45tn6T5                                            Jordana   \n",
       "13    1kGZv-G9GACN322                 Singfeld! A Musical About Nothing!   \n",
       "14      G5dIZbxha3euU                                         Chaparelle   \n",
       "15    16vjZbx8ZG7M92V                                   Zombie Burlesque   \n",
       "16    1Ad0ZbpGkmd0Z0N       Vicki Barbolak At Jimmy Kimmel's Comedy Club   \n",
       "17     rZ7HnEZ1AfF6ZK                                        Ace Frehley   \n",
       "18     rZ7HnEZ1AfF6ZS                     Laurel Street | Alex Crossland   \n",
       "19    1AeFZboGkR49eJs                                 BFA Dance Showcase   \n",
       "20  vv1AFZk7NGkdApwcE                Motor City Cruise vs. Maine Celtics   \n",
       "\n",
       "         DATE  MAX_PRICE                                              VENUE  \\\n",
       "0  2025-03-01      29.34                  Hollywood Improv (The Main Room)    \n",
       "1  2025-03-08      29.34                  Hollywood Improv (The Main Room)    \n",
       "2  2025-10-03      39.50                                   Mercury Ballroom   \n",
       "3  2025-03-29      29.34                  Hollywood Improv (The Main Room)    \n",
       "4  2025-03-07      19.04                  Hollywood Improv (The Main Room)    \n",
       "5  2025-05-10     276.14                  'O' Theatre at Bellagio Las Vegas   \n",
       "6  2025-08-25      59.98  V Theater at Planet Hollywood Inside the Mirac...   \n",
       "7  2025-06-07      89.50                                    Van Andel Arena   \n",
       "8  2025-03-02      79.50                    Flagstar at Westbury Music Fair   \n",
       "9  2025-11-07      59.98  V Theater at Planet Hollywood Inside the Mirac...   \n",
       "10 2025-03-01      22.50                                      The Ritz Ybor   \n",
       "11 2025-02-22      20.00                                    Bowery Ballroom   \n",
       "13 2025-03-23      47.50                                 The Theater Center   \n",
       "14 2025-04-04      25.00                                          Scoot Inn   \n",
       "15 2025-04-09      79.98  V Theater at Planet Hollywood Inside the Mirac...   \n",
       "16 2025-02-18      55.44                         Jimmy Kimmel's Comedy Club   \n",
       "17 2025-06-15    1238.50                                     Whisky A Go Go   \n",
       "18 2025-02-14      13.61                                             Berlin   \n",
       "19 2025-02-22       7.00                 McGuire Pavilion Black Box Theatre   \n",
       "20 2025-02-25     150.00                             Wayne State Fieldhouse   \n",
       "\n",
       "   STATE  \n",
       "0     CA  \n",
       "1     CA  \n",
       "2     KY  \n",
       "3     CA  \n",
       "4     CA  \n",
       "5     NV  \n",
       "6     NV  \n",
       "7     MI  \n",
       "8     NY  \n",
       "9     NV  \n",
       "10    FL  \n",
       "11    NY  \n",
       "13    NY  \n",
       "14    TX  \n",
       "15    NV  \n",
       "16    NV  \n",
       "17    CA  \n",
       "18    NY  \n",
       "19    FL  \n",
       "20    MI  "
      ]
     },
     "execution_count": 116,
     "metadata": {},
     "output_type": "execute_result"
    }
   ],
   "source": [
    "# check for null values\n",
    "df.isna().sum()\n",
    "df = df.dropna()\n",
    "df.head(20)"
   ]
  },
  {
   "cell_type": "code",
   "execution_count": 117,
   "metadata": {},
   "outputs": [
    {
     "data": {
      "text/plain": [
       "(57605, 6)"
      ]
     },
     "execution_count": 117,
     "metadata": {},
     "output_type": "execute_result"
    }
   ],
   "source": [
    "df.shape"
   ]
  },
  {
   "cell_type": "code",
   "execution_count": 118,
   "metadata": {},
   "outputs": [
    {
     "data": {
      "text/html": [
       "<div>\n",
       "<style scoped>\n",
       "    .dataframe tbody tr th:only-of-type {\n",
       "        vertical-align: middle;\n",
       "    }\n",
       "\n",
       "    .dataframe tbody tr th {\n",
       "        vertical-align: top;\n",
       "    }\n",
       "\n",
       "    .dataframe thead th {\n",
       "        text-align: right;\n",
       "    }\n",
       "</style>\n",
       "<table border=\"1\" class=\"dataframe\">\n",
       "  <thead>\n",
       "    <tr style=\"text-align: right;\">\n",
       "      <th></th>\n",
       "      <th>EVENT_ID</th>\n",
       "      <th>EVENT</th>\n",
       "      <th>DATE</th>\n",
       "      <th>MAX_PRICE</th>\n",
       "      <th>VENUE</th>\n",
       "      <th>STATE</th>\n",
       "    </tr>\n",
       "  </thead>\n",
       "  <tbody>\n",
       "  </tbody>\n",
       "</table>\n",
       "</div>"
      ],
      "text/plain": [
       "Empty DataFrame\n",
       "Columns: [EVENT_ID, EVENT, DATE, MAX_PRICE, VENUE, STATE]\n",
       "Index: []"
      ]
     },
     "execution_count": 118,
     "metadata": {},
     "output_type": "execute_result"
    }
   ],
   "source": [
    "# check for duplicates\n",
    "df.loc[df.duplicated()]"
   ]
  },
  {
   "cell_type": "code",
   "execution_count": 119,
   "metadata": {},
   "outputs": [
    {
     "data": {
      "text/plain": [
       "0         False\n",
       "1         False\n",
       "2         False\n",
       "3         False\n",
       "4         False\n",
       "          ...  \n",
       "100707    False\n",
       "100708    False\n",
       "100710    False\n",
       "100711    False\n",
       "100712    False\n",
       "Length: 57605, dtype: bool"
      ]
     },
     "execution_count": 119,
     "metadata": {},
     "output_type": "execute_result"
    }
   ],
   "source": [
    "df.duplicated(subset=[\"EVENT_ID\"])"
   ]
  },
  {
   "cell_type": "code",
   "execution_count": 120,
   "metadata": {},
   "outputs": [
    {
     "data": {
      "text/html": [
       "<div>\n",
       "<style scoped>\n",
       "    .dataframe tbody tr th:only-of-type {\n",
       "        vertical-align: middle;\n",
       "    }\n",
       "\n",
       "    .dataframe tbody tr th {\n",
       "        vertical-align: top;\n",
       "    }\n",
       "\n",
       "    .dataframe thead th {\n",
       "        text-align: right;\n",
       "    }\n",
       "</style>\n",
       "<table border=\"1\" class=\"dataframe\">\n",
       "  <thead>\n",
       "    <tr style=\"text-align: right;\">\n",
       "      <th></th>\n",
       "      <th>EVENT_ID</th>\n",
       "      <th>EVENT</th>\n",
       "      <th>DATE</th>\n",
       "      <th>MAX_PRICE</th>\n",
       "      <th>VENUE</th>\n",
       "      <th>STATE</th>\n",
       "    </tr>\n",
       "  </thead>\n",
       "  <tbody>\n",
       "    <tr>\n",
       "      <th>0</th>\n",
       "      <td>rZ7HnEZ1AfF6aK</td>\n",
       "      <td>Tonight at the Improv!</td>\n",
       "      <td>2025-03-01</td>\n",
       "      <td>29.34</td>\n",
       "      <td>Hollywood Improv (The Main Room)</td>\n",
       "      <td>CA</td>\n",
       "    </tr>\n",
       "    <tr>\n",
       "      <th>1</th>\n",
       "      <td>rZ7HnEZ1AfF6aN</td>\n",
       "      <td>Tonight at the Improv!</td>\n",
       "      <td>2025-03-08</td>\n",
       "      <td>29.34</td>\n",
       "      <td>Hollywood Improv (The Main Room)</td>\n",
       "      <td>CA</td>\n",
       "    </tr>\n",
       "    <tr>\n",
       "      <th>2</th>\n",
       "      <td>1ApZkFMGkdiw0WO</td>\n",
       "      <td>Kneecap</td>\n",
       "      <td>2025-10-03</td>\n",
       "      <td>39.50</td>\n",
       "      <td>Mercury Ballroom</td>\n",
       "      <td>KY</td>\n",
       "    </tr>\n",
       "    <tr>\n",
       "      <th>3</th>\n",
       "      <td>rZ7HnEZ1AfF6aS</td>\n",
       "      <td>Tonight at the Improv!</td>\n",
       "      <td>2025-03-29</td>\n",
       "      <td>29.34</td>\n",
       "      <td>Hollywood Improv (The Main Room)</td>\n",
       "      <td>CA</td>\n",
       "    </tr>\n",
       "    <tr>\n",
       "      <th>4</th>\n",
       "      <td>rZ7HnEZ1AfF6ad</td>\n",
       "      <td>Tonight at the Improv!</td>\n",
       "      <td>2025-03-07</td>\n",
       "      <td>19.04</td>\n",
       "      <td>Hollywood Improv (The Main Room)</td>\n",
       "      <td>CA</td>\n",
       "    </tr>\n",
       "    <tr>\n",
       "      <th>5</th>\n",
       "      <td>G5ezZb8MgIPuh</td>\n",
       "      <td>Cirque du Soleil : \"O\"</td>\n",
       "      <td>2025-05-10</td>\n",
       "      <td>276.14</td>\n",
       "      <td>'O' Theatre at Bellagio Las Vegas</td>\n",
       "      <td>NV</td>\n",
       "    </tr>\n",
       "    <tr>\n",
       "      <th>6</th>\n",
       "      <td>1avjZbx8ouIZd271</td>\n",
       "      <td>The Mentalist</td>\n",
       "      <td>2025-08-25</td>\n",
       "      <td>59.98</td>\n",
       "      <td>V Theater at Planet Hollywood Inside the Mirac...</td>\n",
       "      <td>NV</td>\n",
       "    </tr>\n",
       "    <tr>\n",
       "      <th>7</th>\n",
       "      <td>vv1keZv-4YGA1U7Bv</td>\n",
       "      <td>Gutfeld Live '25 Featuring Greg Gutfeld &amp; spec...</td>\n",
       "      <td>2025-06-07</td>\n",
       "      <td>89.50</td>\n",
       "      <td>Van Andel Arena</td>\n",
       "      <td>MI</td>\n",
       "    </tr>\n",
       "    <tr>\n",
       "      <th>8</th>\n",
       "      <td>k7vGFb8zt7yQJ</td>\n",
       "      <td>Irish Celebration Starring Andy Cooney</td>\n",
       "      <td>2025-03-02</td>\n",
       "      <td>79.50</td>\n",
       "      <td>Flagstar at Westbury Music Fair</td>\n",
       "      <td>NY</td>\n",
       "    </tr>\n",
       "    <tr>\n",
       "      <th>9</th>\n",
       "      <td>15vjZbx8KayCZ</td>\n",
       "      <td>The Mentalist</td>\n",
       "      <td>2025-11-07</td>\n",
       "      <td>59.98</td>\n",
       "      <td>V Theater at Planet Hollywood Inside the Mirac...</td>\n",
       "      <td>NV</td>\n",
       "    </tr>\n",
       "  </tbody>\n",
       "</table>\n",
       "</div>"
      ],
      "text/plain": [
       "            EVENT_ID                                              EVENT  \\\n",
       "0     rZ7HnEZ1AfF6aK                             Tonight at the Improv!   \n",
       "1     rZ7HnEZ1AfF6aN                             Tonight at the Improv!   \n",
       "2    1ApZkFMGkdiw0WO                                            Kneecap   \n",
       "3     rZ7HnEZ1AfF6aS                             Tonight at the Improv!   \n",
       "4     rZ7HnEZ1AfF6ad                             Tonight at the Improv!   \n",
       "5      G5ezZb8MgIPuh                             Cirque du Soleil : \"O\"   \n",
       "6   1avjZbx8ouIZd271                                      The Mentalist   \n",
       "7  vv1keZv-4YGA1U7Bv  Gutfeld Live '25 Featuring Greg Gutfeld & spec...   \n",
       "8      k7vGFb8zt7yQJ             Irish Celebration Starring Andy Cooney   \n",
       "9      15vjZbx8KayCZ                                      The Mentalist   \n",
       "\n",
       "        DATE  MAX_PRICE                                              VENUE  \\\n",
       "0 2025-03-01      29.34                  Hollywood Improv (The Main Room)    \n",
       "1 2025-03-08      29.34                  Hollywood Improv (The Main Room)    \n",
       "2 2025-10-03      39.50                                   Mercury Ballroom   \n",
       "3 2025-03-29      29.34                  Hollywood Improv (The Main Room)    \n",
       "4 2025-03-07      19.04                  Hollywood Improv (The Main Room)    \n",
       "5 2025-05-10     276.14                  'O' Theatre at Bellagio Las Vegas   \n",
       "6 2025-08-25      59.98  V Theater at Planet Hollywood Inside the Mirac...   \n",
       "7 2025-06-07      89.50                                    Van Andel Arena   \n",
       "8 2025-03-02      79.50                    Flagstar at Westbury Music Fair   \n",
       "9 2025-11-07      59.98  V Theater at Planet Hollywood Inside the Mirac...   \n",
       "\n",
       "  STATE  \n",
       "0    CA  \n",
       "1    CA  \n",
       "2    KY  \n",
       "3    CA  \n",
       "4    CA  \n",
       "5    NV  \n",
       "6    NV  \n",
       "7    MI  \n",
       "8    NY  \n",
       "9    NV  "
      ]
     },
     "execution_count": 120,
     "metadata": {},
     "output_type": "execute_result"
    }
   ],
   "source": [
    "df.duplicated(subset=[\"EVENT\"])\n",
    "\n",
    "df.head(10)"
   ]
  },
  {
   "cell_type": "code",
   "execution_count": 121,
   "metadata": {},
   "outputs": [
    {
     "data": {
      "text/html": [
       "<div>\n",
       "<style scoped>\n",
       "    .dataframe tbody tr th:only-of-type {\n",
       "        vertical-align: middle;\n",
       "    }\n",
       "\n",
       "    .dataframe tbody tr th {\n",
       "        vertical-align: top;\n",
       "    }\n",
       "\n",
       "    .dataframe thead th {\n",
       "        text-align: right;\n",
       "    }\n",
       "</style>\n",
       "<table border=\"1\" class=\"dataframe\">\n",
       "  <thead>\n",
       "    <tr style=\"text-align: right;\">\n",
       "      <th></th>\n",
       "      <th>EVENT_ID</th>\n",
       "      <th>EVENT</th>\n",
       "      <th>DATE</th>\n",
       "      <th>MAX_PRICE</th>\n",
       "      <th>VENUE</th>\n",
       "      <th>STATE</th>\n",
       "    </tr>\n",
       "  </thead>\n",
       "  <tbody>\n",
       "    <tr>\n",
       "      <th>0</th>\n",
       "      <td>rZ7HnEZ1AfF6aK</td>\n",
       "      <td>Tonight at the Improv!</td>\n",
       "      <td>2025-03-01</td>\n",
       "      <td>29.34</td>\n",
       "      <td>Hollywood Improv (The Main Room)</td>\n",
       "      <td>CA</td>\n",
       "    </tr>\n",
       "    <tr>\n",
       "      <th>1</th>\n",
       "      <td>rZ7HnEZ1AfF6aN</td>\n",
       "      <td>Tonight at the Improv!</td>\n",
       "      <td>2025-03-08</td>\n",
       "      <td>29.34</td>\n",
       "      <td>Hollywood Improv (The Main Room)</td>\n",
       "      <td>CA</td>\n",
       "    </tr>\n",
       "    <tr>\n",
       "      <th>2</th>\n",
       "      <td>1ApZkFMGkdiw0WO</td>\n",
       "      <td>Kneecap</td>\n",
       "      <td>2025-10-03</td>\n",
       "      <td>39.50</td>\n",
       "      <td>Mercury Ballroom</td>\n",
       "      <td>KY</td>\n",
       "    </tr>\n",
       "    <tr>\n",
       "      <th>3</th>\n",
       "      <td>rZ7HnEZ1AfF6aS</td>\n",
       "      <td>Tonight at the Improv!</td>\n",
       "      <td>2025-03-29</td>\n",
       "      <td>29.34</td>\n",
       "      <td>Hollywood Improv (The Main Room)</td>\n",
       "      <td>CA</td>\n",
       "    </tr>\n",
       "    <tr>\n",
       "      <th>4</th>\n",
       "      <td>rZ7HnEZ1AfF6ad</td>\n",
       "      <td>Tonight at the Improv!</td>\n",
       "      <td>2025-03-07</td>\n",
       "      <td>19.04</td>\n",
       "      <td>Hollywood Improv (The Main Room)</td>\n",
       "      <td>CA</td>\n",
       "    </tr>\n",
       "    <tr>\n",
       "      <th>5</th>\n",
       "      <td>G5ezZb8MgIPuh</td>\n",
       "      <td>Cirque du Soleil : \"O\"</td>\n",
       "      <td>2025-05-10</td>\n",
       "      <td>276.14</td>\n",
       "      <td>'O' Theatre at Bellagio Las Vegas</td>\n",
       "      <td>NV</td>\n",
       "    </tr>\n",
       "    <tr>\n",
       "      <th>6</th>\n",
       "      <td>1avjZbx8ouIZd271</td>\n",
       "      <td>The Mentalist</td>\n",
       "      <td>2025-08-25</td>\n",
       "      <td>59.98</td>\n",
       "      <td>V Theater at Planet Hollywood Inside the Mirac...</td>\n",
       "      <td>NV</td>\n",
       "    </tr>\n",
       "    <tr>\n",
       "      <th>7</th>\n",
       "      <td>vv1keZv-4YGA1U7Bv</td>\n",
       "      <td>Gutfeld Live '25 Featuring Greg Gutfeld &amp; spec...</td>\n",
       "      <td>2025-06-07</td>\n",
       "      <td>89.50</td>\n",
       "      <td>Van Andel Arena</td>\n",
       "      <td>MI</td>\n",
       "    </tr>\n",
       "    <tr>\n",
       "      <th>8</th>\n",
       "      <td>k7vGFb8zt7yQJ</td>\n",
       "      <td>Irish Celebration Starring Andy Cooney</td>\n",
       "      <td>2025-03-02</td>\n",
       "      <td>79.50</td>\n",
       "      <td>Flagstar at Westbury Music Fair</td>\n",
       "      <td>NY</td>\n",
       "    </tr>\n",
       "    <tr>\n",
       "      <th>9</th>\n",
       "      <td>15vjZbx8KayCZ</td>\n",
       "      <td>The Mentalist</td>\n",
       "      <td>2025-11-07</td>\n",
       "      <td>59.98</td>\n",
       "      <td>V Theater at Planet Hollywood Inside the Mirac...</td>\n",
       "      <td>NV</td>\n",
       "    </tr>\n",
       "    <tr>\n",
       "      <th>10</th>\n",
       "      <td>vvG1VZb41CZdEo</td>\n",
       "      <td>bbno$: it's pronounced baby no money</td>\n",
       "      <td>2025-03-01</td>\n",
       "      <td>22.50</td>\n",
       "      <td>The Ritz Ybor</td>\n",
       "      <td>FL</td>\n",
       "    </tr>\n",
       "    <tr>\n",
       "      <th>11</th>\n",
       "      <td>k7vGFb45tn6T5</td>\n",
       "      <td>Jordana</td>\n",
       "      <td>2025-02-22</td>\n",
       "      <td>20.00</td>\n",
       "      <td>Bowery Ballroom</td>\n",
       "      <td>NY</td>\n",
       "    </tr>\n",
       "    <tr>\n",
       "      <th>13</th>\n",
       "      <td>1kGZv-G9GACN322</td>\n",
       "      <td>Singfeld! A Musical About Nothing!</td>\n",
       "      <td>2025-03-23</td>\n",
       "      <td>47.50</td>\n",
       "      <td>The Theater Center</td>\n",
       "      <td>NY</td>\n",
       "    </tr>\n",
       "    <tr>\n",
       "      <th>14</th>\n",
       "      <td>G5dIZbxha3euU</td>\n",
       "      <td>Chaparelle</td>\n",
       "      <td>2025-04-04</td>\n",
       "      <td>25.00</td>\n",
       "      <td>Scoot Inn</td>\n",
       "      <td>TX</td>\n",
       "    </tr>\n",
       "    <tr>\n",
       "      <th>15</th>\n",
       "      <td>16vjZbx8ZG7M92V</td>\n",
       "      <td>Zombie Burlesque</td>\n",
       "      <td>2025-04-09</td>\n",
       "      <td>79.98</td>\n",
       "      <td>V Theater at Planet Hollywood Inside the Mirac...</td>\n",
       "      <td>NV</td>\n",
       "    </tr>\n",
       "    <tr>\n",
       "      <th>16</th>\n",
       "      <td>1Ad0ZbpGkmd0Z0N</td>\n",
       "      <td>Vicki Barbolak At Jimmy Kimmel's Comedy Club</td>\n",
       "      <td>2025-02-18</td>\n",
       "      <td>55.44</td>\n",
       "      <td>Jimmy Kimmel's Comedy Club</td>\n",
       "      <td>NV</td>\n",
       "    </tr>\n",
       "    <tr>\n",
       "      <th>17</th>\n",
       "      <td>rZ7HnEZ1AfF6ZK</td>\n",
       "      <td>Ace Frehley</td>\n",
       "      <td>2025-06-15</td>\n",
       "      <td>1238.50</td>\n",
       "      <td>Whisky A Go Go</td>\n",
       "      <td>CA</td>\n",
       "    </tr>\n",
       "    <tr>\n",
       "      <th>18</th>\n",
       "      <td>rZ7HnEZ1AfF6ZS</td>\n",
       "      <td>Laurel Street | Alex Crossland</td>\n",
       "      <td>2025-02-14</td>\n",
       "      <td>13.61</td>\n",
       "      <td>Berlin</td>\n",
       "      <td>NY</td>\n",
       "    </tr>\n",
       "    <tr>\n",
       "      <th>19</th>\n",
       "      <td>1AeFZboGkR49eJs</td>\n",
       "      <td>BFA Dance Showcase</td>\n",
       "      <td>2025-02-22</td>\n",
       "      <td>7.00</td>\n",
       "      <td>McGuire Pavilion Black Box Theatre</td>\n",
       "      <td>FL</td>\n",
       "    </tr>\n",
       "    <tr>\n",
       "      <th>20</th>\n",
       "      <td>vv1AFZk7NGkdApwcE</td>\n",
       "      <td>Motor City Cruise vs. Maine Celtics</td>\n",
       "      <td>2025-02-25</td>\n",
       "      <td>150.00</td>\n",
       "      <td>Wayne State Fieldhouse</td>\n",
       "      <td>MI</td>\n",
       "    </tr>\n",
       "  </tbody>\n",
       "</table>\n",
       "</div>"
      ],
      "text/plain": [
       "             EVENT_ID                                              EVENT  \\\n",
       "0      rZ7HnEZ1AfF6aK                             Tonight at the Improv!   \n",
       "1      rZ7HnEZ1AfF6aN                             Tonight at the Improv!   \n",
       "2     1ApZkFMGkdiw0WO                                            Kneecap   \n",
       "3      rZ7HnEZ1AfF6aS                             Tonight at the Improv!   \n",
       "4      rZ7HnEZ1AfF6ad                             Tonight at the Improv!   \n",
       "5       G5ezZb8MgIPuh                             Cirque du Soleil : \"O\"   \n",
       "6    1avjZbx8ouIZd271                                      The Mentalist   \n",
       "7   vv1keZv-4YGA1U7Bv  Gutfeld Live '25 Featuring Greg Gutfeld & spec...   \n",
       "8       k7vGFb8zt7yQJ             Irish Celebration Starring Andy Cooney   \n",
       "9       15vjZbx8KayCZ                                      The Mentalist   \n",
       "10     vvG1VZb41CZdEo               bbno$: it's pronounced baby no money   \n",
       "11      k7vGFb45tn6T5                                            Jordana   \n",
       "13    1kGZv-G9GACN322                 Singfeld! A Musical About Nothing!   \n",
       "14      G5dIZbxha3euU                                         Chaparelle   \n",
       "15    16vjZbx8ZG7M92V                                   Zombie Burlesque   \n",
       "16    1Ad0ZbpGkmd0Z0N       Vicki Barbolak At Jimmy Kimmel's Comedy Club   \n",
       "17     rZ7HnEZ1AfF6ZK                                        Ace Frehley   \n",
       "18     rZ7HnEZ1AfF6ZS                     Laurel Street | Alex Crossland   \n",
       "19    1AeFZboGkR49eJs                                 BFA Dance Showcase   \n",
       "20  vv1AFZk7NGkdApwcE                Motor City Cruise vs. Maine Celtics   \n",
       "\n",
       "         DATE  MAX_PRICE                                              VENUE  \\\n",
       "0  2025-03-01      29.34                  Hollywood Improv (The Main Room)    \n",
       "1  2025-03-08      29.34                  Hollywood Improv (The Main Room)    \n",
       "2  2025-10-03      39.50                                   Mercury Ballroom   \n",
       "3  2025-03-29      29.34                  Hollywood Improv (The Main Room)    \n",
       "4  2025-03-07      19.04                  Hollywood Improv (The Main Room)    \n",
       "5  2025-05-10     276.14                  'O' Theatre at Bellagio Las Vegas   \n",
       "6  2025-08-25      59.98  V Theater at Planet Hollywood Inside the Mirac...   \n",
       "7  2025-06-07      89.50                                    Van Andel Arena   \n",
       "8  2025-03-02      79.50                    Flagstar at Westbury Music Fair   \n",
       "9  2025-11-07      59.98  V Theater at Planet Hollywood Inside the Mirac...   \n",
       "10 2025-03-01      22.50                                      The Ritz Ybor   \n",
       "11 2025-02-22      20.00                                    Bowery Ballroom   \n",
       "13 2025-03-23      47.50                                 The Theater Center   \n",
       "14 2025-04-04      25.00                                          Scoot Inn   \n",
       "15 2025-04-09      79.98  V Theater at Planet Hollywood Inside the Mirac...   \n",
       "16 2025-02-18      55.44                         Jimmy Kimmel's Comedy Club   \n",
       "17 2025-06-15    1238.50                                     Whisky A Go Go   \n",
       "18 2025-02-14      13.61                                             Berlin   \n",
       "19 2025-02-22       7.00                 McGuire Pavilion Black Box Theatre   \n",
       "20 2025-02-25     150.00                             Wayne State Fieldhouse   \n",
       "\n",
       "   STATE  \n",
       "0     CA  \n",
       "1     CA  \n",
       "2     KY  \n",
       "3     CA  \n",
       "4     CA  \n",
       "5     NV  \n",
       "6     NV  \n",
       "7     MI  \n",
       "8     NY  \n",
       "9     NV  \n",
       "10    FL  \n",
       "11    NY  \n",
       "13    NY  \n",
       "14    TX  \n",
       "15    NV  \n",
       "16    NV  \n",
       "17    CA  \n",
       "18    NY  \n",
       "19    FL  \n",
       "20    MI  "
      ]
     },
     "execution_count": 121,
     "metadata": {},
     "output_type": "execute_result"
    }
   ],
   "source": [
    "df.duplicated(subset=[\"DATE\"])\n",
    "\n",
    "df.head(20)"
   ]
  },
  {
   "cell_type": "code",
   "execution_count": 122,
   "metadata": {},
   "outputs": [
    {
     "data": {
      "text/html": [
       "<div>\n",
       "<style scoped>\n",
       "    .dataframe tbody tr th:only-of-type {\n",
       "        vertical-align: middle;\n",
       "    }\n",
       "\n",
       "    .dataframe tbody tr th {\n",
       "        vertical-align: top;\n",
       "    }\n",
       "\n",
       "    .dataframe thead th {\n",
       "        text-align: right;\n",
       "    }\n",
       "</style>\n",
       "<table border=\"1\" class=\"dataframe\">\n",
       "  <thead>\n",
       "    <tr style=\"text-align: right;\">\n",
       "      <th></th>\n",
       "      <th>EVENT_ID</th>\n",
       "      <th>EVENT</th>\n",
       "      <th>DATE</th>\n",
       "      <th>MAX_PRICE</th>\n",
       "      <th>VENUE</th>\n",
       "      <th>STATE</th>\n",
       "    </tr>\n",
       "  </thead>\n",
       "  <tbody>\n",
       "    <tr>\n",
       "      <th>0</th>\n",
       "      <td>rZ7HnEZ1AfF6aK</td>\n",
       "      <td>Tonight at the Improv!</td>\n",
       "      <td>2025-03-01</td>\n",
       "      <td>29.34</td>\n",
       "      <td>Hollywood Improv (The Main Room)</td>\n",
       "      <td>CA</td>\n",
       "    </tr>\n",
       "    <tr>\n",
       "      <th>1</th>\n",
       "      <td>rZ7HnEZ1AfF6aN</td>\n",
       "      <td>Tonight at the Improv!</td>\n",
       "      <td>2025-03-08</td>\n",
       "      <td>29.34</td>\n",
       "      <td>Hollywood Improv (The Main Room)</td>\n",
       "      <td>CA</td>\n",
       "    </tr>\n",
       "    <tr>\n",
       "      <th>3</th>\n",
       "      <td>rZ7HnEZ1AfF6aS</td>\n",
       "      <td>Tonight at the Improv!</td>\n",
       "      <td>2025-03-29</td>\n",
       "      <td>29.34</td>\n",
       "      <td>Hollywood Improv (The Main Room)</td>\n",
       "      <td>CA</td>\n",
       "    </tr>\n",
       "    <tr>\n",
       "      <th>4</th>\n",
       "      <td>rZ7HnEZ1AfF6ad</td>\n",
       "      <td>Tonight at the Improv!</td>\n",
       "      <td>2025-03-07</td>\n",
       "      <td>19.04</td>\n",
       "      <td>Hollywood Improv (The Main Room)</td>\n",
       "      <td>CA</td>\n",
       "    </tr>\n",
       "    <tr>\n",
       "      <th>17</th>\n",
       "      <td>rZ7HnEZ1AfF6ZK</td>\n",
       "      <td>Ace Frehley</td>\n",
       "      <td>2025-06-15</td>\n",
       "      <td>1238.50</td>\n",
       "      <td>Whisky A Go Go</td>\n",
       "      <td>CA</td>\n",
       "    </tr>\n",
       "    <tr>\n",
       "      <th>...</th>\n",
       "      <td>...</td>\n",
       "      <td>...</td>\n",
       "      <td>...</td>\n",
       "      <td>...</td>\n",
       "      <td>...</td>\n",
       "      <td>...</td>\n",
       "    </tr>\n",
       "    <tr>\n",
       "      <th>100686</th>\n",
       "      <td>vvG1IZbuxiC7ad</td>\n",
       "      <td>Wicked (Touring)</td>\n",
       "      <td>2025-02-26</td>\n",
       "      <td>229.00</td>\n",
       "      <td>San Diego Civic Theatre</td>\n",
       "      <td>CA</td>\n",
       "    </tr>\n",
       "    <tr>\n",
       "      <th>100690</th>\n",
       "      <td>rZ7HnEZ1AfebeK</td>\n",
       "      <td>Totally 80's Night Featuring Tim Cappello of \"...</td>\n",
       "      <td>2025-02-08</td>\n",
       "      <td>22.10</td>\n",
       "      <td>Transplants Brewing Company</td>\n",
       "      <td>CA</td>\n",
       "    </tr>\n",
       "    <tr>\n",
       "      <th>100695</th>\n",
       "      <td>G5vYZbfl_qILq</td>\n",
       "      <td>The Cher Show - Closed Caption</td>\n",
       "      <td>2025-03-19</td>\n",
       "      <td>99.00</td>\n",
       "      <td>San Jose Center for the Performing Arts</td>\n",
       "      <td>CA</td>\n",
       "    </tr>\n",
       "    <tr>\n",
       "      <th>100701</th>\n",
       "      <td>G5vYZbpLgEV2o</td>\n",
       "      <td>Bright Eyes</td>\n",
       "      <td>2025-02-06</td>\n",
       "      <td>69.50</td>\n",
       "      <td>Fox Theater - Oakland</td>\n",
       "      <td>CA</td>\n",
       "    </tr>\n",
       "    <tr>\n",
       "      <th>100708</th>\n",
       "      <td>rZ7HnEZ1AfebbK</td>\n",
       "      <td>Blair Socci</td>\n",
       "      <td>2025-03-05</td>\n",
       "      <td>83.16</td>\n",
       "      <td>Brea Improv</td>\n",
       "      <td>CA</td>\n",
       "    </tr>\n",
       "  </tbody>\n",
       "</table>\n",
       "<p>5899 rows × 6 columns</p>\n",
       "</div>"
      ],
      "text/plain": [
       "              EVENT_ID                                              EVENT  \\\n",
       "0       rZ7HnEZ1AfF6aK                             Tonight at the Improv!   \n",
       "1       rZ7HnEZ1AfF6aN                             Tonight at the Improv!   \n",
       "3       rZ7HnEZ1AfF6aS                             Tonight at the Improv!   \n",
       "4       rZ7HnEZ1AfF6ad                             Tonight at the Improv!   \n",
       "17      rZ7HnEZ1AfF6ZK                                        Ace Frehley   \n",
       "...                ...                                                ...   \n",
       "100686  vvG1IZbuxiC7ad                                   Wicked (Touring)   \n",
       "100690  rZ7HnEZ1AfebeK  Totally 80's Night Featuring Tim Cappello of \"...   \n",
       "100695   G5vYZbfl_qILq                     The Cher Show - Closed Caption   \n",
       "100701   G5vYZbpLgEV2o                                        Bright Eyes   \n",
       "100708  rZ7HnEZ1AfebbK                                        Blair Socci   \n",
       "\n",
       "             DATE  MAX_PRICE                                    VENUE STATE  \n",
       "0      2025-03-01      29.34        Hollywood Improv (The Main Room)     CA  \n",
       "1      2025-03-08      29.34        Hollywood Improv (The Main Room)     CA  \n",
       "3      2025-03-29      29.34        Hollywood Improv (The Main Room)     CA  \n",
       "4      2025-03-07      19.04        Hollywood Improv (The Main Room)     CA  \n",
       "17     2025-06-15    1238.50                           Whisky A Go Go    CA  \n",
       "...           ...        ...                                      ...   ...  \n",
       "100686 2025-02-26     229.00                  San Diego Civic Theatre    CA  \n",
       "100690 2025-02-08      22.10              Transplants Brewing Company    CA  \n",
       "100695 2025-03-19      99.00  San Jose Center for the Performing Arts    CA  \n",
       "100701 2025-02-06      69.50                    Fox Theater - Oakland    CA  \n",
       "100708 2025-03-05      83.16                              Brea Improv    CA  \n",
       "\n",
       "[5899 rows x 6 columns]"
      ]
     },
     "execution_count": 122,
     "metadata": {},
     "output_type": "execute_result"
    }
   ],
   "source": [
    "df.query('STATE == \"CA\"')"
   ]
  },
  {
   "cell_type": "code",
   "execution_count": 123,
   "metadata": {},
   "outputs": [
    {
     "data": {
      "text/html": [
       "<div>\n",
       "<style scoped>\n",
       "    .dataframe tbody tr th:only-of-type {\n",
       "        vertical-align: middle;\n",
       "    }\n",
       "\n",
       "    .dataframe tbody tr th {\n",
       "        vertical-align: top;\n",
       "    }\n",
       "\n",
       "    .dataframe thead th {\n",
       "        text-align: right;\n",
       "    }\n",
       "</style>\n",
       "<table border=\"1\" class=\"dataframe\">\n",
       "  <thead>\n",
       "    <tr style=\"text-align: right;\">\n",
       "      <th></th>\n",
       "      <th>EVENT_ID</th>\n",
       "      <th>EVENT</th>\n",
       "      <th>DATE</th>\n",
       "      <th>MAX_PRICE</th>\n",
       "      <th>VENUE</th>\n",
       "      <th>STATE</th>\n",
       "    </tr>\n",
       "  </thead>\n",
       "  <tbody>\n",
       "    <tr>\n",
       "      <th>8</th>\n",
       "      <td>k7vGFb8zt7yQJ</td>\n",
       "      <td>Irish Celebration Starring Andy Cooney</td>\n",
       "      <td>2025-03-02</td>\n",
       "      <td>79.50</td>\n",
       "      <td>Flagstar at Westbury Music Fair</td>\n",
       "      <td>NY</td>\n",
       "    </tr>\n",
       "    <tr>\n",
       "      <th>11</th>\n",
       "      <td>k7vGFb45tn6T5</td>\n",
       "      <td>Jordana</td>\n",
       "      <td>2025-02-22</td>\n",
       "      <td>20.00</td>\n",
       "      <td>Bowery Ballroom</td>\n",
       "      <td>NY</td>\n",
       "    </tr>\n",
       "    <tr>\n",
       "      <th>13</th>\n",
       "      <td>1kGZv-G9GACN322</td>\n",
       "      <td>Singfeld! A Musical About Nothing!</td>\n",
       "      <td>2025-03-23</td>\n",
       "      <td>47.50</td>\n",
       "      <td>The Theater Center</td>\n",
       "      <td>NY</td>\n",
       "    </tr>\n",
       "    <tr>\n",
       "      <th>18</th>\n",
       "      <td>rZ7HnEZ1AfF6ZS</td>\n",
       "      <td>Laurel Street | Alex Crossland</td>\n",
       "      <td>2025-02-14</td>\n",
       "      <td>13.61</td>\n",
       "      <td>Berlin</td>\n",
       "      <td>NY</td>\n",
       "    </tr>\n",
       "    <tr>\n",
       "      <th>98</th>\n",
       "      <td>k7vGFbfmIXe55</td>\n",
       "      <td>Siena Saints Mens Basketball vs. St. Peters Pe...</td>\n",
       "      <td>2025-02-06</td>\n",
       "      <td>30.00</td>\n",
       "      <td>MVP Arena</td>\n",
       "      <td>NY</td>\n",
       "    </tr>\n",
       "    <tr>\n",
       "      <th>...</th>\n",
       "      <td>...</td>\n",
       "      <td>...</td>\n",
       "      <td>...</td>\n",
       "      <td>...</td>\n",
       "      <td>...</td>\n",
       "      <td>...</td>\n",
       "    </tr>\n",
       "    <tr>\n",
       "      <th>100617</th>\n",
       "      <td>G5diZbb5r6eZc</td>\n",
       "      <td>PAW Patrol Live! \"A Mighty Adventure\"</td>\n",
       "      <td>2025-04-26</td>\n",
       "      <td>179.00</td>\n",
       "      <td>The Theater at MSG</td>\n",
       "      <td>NY</td>\n",
       "    </tr>\n",
       "    <tr>\n",
       "      <th>100629</th>\n",
       "      <td>k7vGFb9hd_gA6</td>\n",
       "      <td>Nessa Barrett</td>\n",
       "      <td>2025-02-17</td>\n",
       "      <td>80.00</td>\n",
       "      <td>Brooklyn Paramount</td>\n",
       "      <td>NY</td>\n",
       "    </tr>\n",
       "    <tr>\n",
       "      <th>100637</th>\n",
       "      <td>rZ7HnEZ1AfAzvd</td>\n",
       "      <td>New York Ska-Jazz Ensemble</td>\n",
       "      <td>2025-09-13</td>\n",
       "      <td>44.15</td>\n",
       "      <td>Iridium</td>\n",
       "      <td>NY</td>\n",
       "    </tr>\n",
       "    <tr>\n",
       "      <th>100662</th>\n",
       "      <td>k7vGFbpSEghgB</td>\n",
       "      <td>Apollo Music Cafe</td>\n",
       "      <td>2025-04-05</td>\n",
       "      <td>30.00</td>\n",
       "      <td>The Apollo's Jonelle Procope Theater</td>\n",
       "      <td>NY</td>\n",
       "    </tr>\n",
       "    <tr>\n",
       "      <th>100692</th>\n",
       "      <td>k7vGFb4VKngkN</td>\n",
       "      <td>Phantom Siita \"Moth to a Flame Tour\" - 1st Wor...</td>\n",
       "      <td>2025-02-08</td>\n",
       "      <td>121.00</td>\n",
       "      <td>Palladium Times Square</td>\n",
       "      <td>NY</td>\n",
       "    </tr>\n",
       "  </tbody>\n",
       "</table>\n",
       "<p>4588 rows × 6 columns</p>\n",
       "</div>"
      ],
      "text/plain": [
       "               EVENT_ID                                              EVENT  \\\n",
       "8         k7vGFb8zt7yQJ             Irish Celebration Starring Andy Cooney   \n",
       "11        k7vGFb45tn6T5                                            Jordana   \n",
       "13      1kGZv-G9GACN322                 Singfeld! A Musical About Nothing!   \n",
       "18       rZ7HnEZ1AfF6ZS                     Laurel Street | Alex Crossland   \n",
       "98        k7vGFbfmIXe55  Siena Saints Mens Basketball vs. St. Peters Pe...   \n",
       "...                 ...                                                ...   \n",
       "100617    G5diZbb5r6eZc              PAW Patrol Live! \"A Mighty Adventure\"   \n",
       "100629    k7vGFb9hd_gA6                                      Nessa Barrett   \n",
       "100637   rZ7HnEZ1AfAzvd                        New York Ska-Jazz Ensemble    \n",
       "100662    k7vGFbpSEghgB                                  Apollo Music Cafe   \n",
       "100692    k7vGFb4VKngkN  Phantom Siita \"Moth to a Flame Tour\" - 1st Wor...   \n",
       "\n",
       "             DATE  MAX_PRICE                                 VENUE STATE  \n",
       "8      2025-03-02      79.50       Flagstar at Westbury Music Fair    NY  \n",
       "11     2025-02-22      20.00                       Bowery Ballroom    NY  \n",
       "13     2025-03-23      47.50                    The Theater Center    NY  \n",
       "18     2025-02-14      13.61                                Berlin    NY  \n",
       "98     2025-02-06      30.00                             MVP Arena    NY  \n",
       "...           ...        ...                                   ...   ...  \n",
       "100617 2025-04-26     179.00                    The Theater at MSG    NY  \n",
       "100629 2025-02-17      80.00                    Brooklyn Paramount    NY  \n",
       "100637 2025-09-13      44.15                               Iridium    NY  \n",
       "100662 2025-04-05      30.00  The Apollo's Jonelle Procope Theater    NY  \n",
       "100692 2025-02-08     121.00               Palladium Times Square     NY  \n",
       "\n",
       "[4588 rows x 6 columns]"
      ]
     },
     "execution_count": 123,
     "metadata": {},
     "output_type": "execute_result"
    }
   ],
   "source": [
    "df.query(\"STATE == 'NY'\")"
   ]
  },
  {
   "cell_type": "markdown",
   "metadata": {},
   "source": [
    "Feature Understanding"
   ]
  },
  {
   "cell_type": "code",
   "execution_count": 124,
   "metadata": {},
   "outputs": [
    {
     "data": {
      "text/plain": [
       "MAX_PRICE\n",
       "25.00     1825\n",
       "0.00      1302\n",
       "20.00     1293\n",
       "35.00     1238\n",
       "15.00      959\n",
       "          ... \n",
       "183.75       1\n",
       "127.83       1\n",
       "124.25       1\n",
       "170.50       1\n",
       "22.10        1\n",
       "Name: count, Length: 2486, dtype: int64"
      ]
     },
     "execution_count": 124,
     "metadata": {},
     "output_type": "execute_result"
    }
   ],
   "source": [
    "# what price was charged the most for events? \n",
    "df[\"MAX_PRICE\"].value_counts()"
   ]
  },
  {
   "cell_type": "code",
   "execution_count": 130,
   "metadata": {},
   "outputs": [
    {
     "data": {
      "image/png": "[encoded data removed]",
      "text/plain": [
       "<Figure size 640x480 with 1 Axes>"
      ]
     },
     "metadata": {},
     "output_type": "display_data"
    }
   ],
   "source": [
    "ax = df[\"MAX_PRICE\"].value_counts() \\\n",
    "    .head(20) \\\n",
    "    .plot(kind=\"hist\", title= \"Top 10 Maximum Prices\")\n",
    "# ax.set_xlabel(\"MAX_PRICE\")\n",
    "# ax.set_ylabel(\"STATES\")"
   ]
  },
  {
   "cell_type": "code",
   "execution_count": 127,
   "metadata": {},
   "outputs": [
    {
     "name": "stdout",
     "output_type": "stream",
     "text": [
      "   STATE  MAX_PRICE\n",
      "0     AK      69.75\n",
      "1     AL     500.00\n",
      "2     AR     822.46\n",
      "3     AZ    8250.00\n",
      "4     CA   21000.00\n",
      "5     CO    6555.00\n",
      "6     CT    1949.50\n",
      "7     DC    1270.00\n",
      "8     DE     114.00\n",
      "9     FL   10000.00\n",
      "10    GA    2000.00\n",
      "11    HI     499.50\n",
      "12    IA     500.00\n",
      "13    ID    3999.00\n",
      "14    IL    1700.00\n",
      "15    IN    1693.00\n",
      "16    KS    1000.00\n",
      "17    KY   12808.00\n",
      "18    LA    2046.00\n",
      "19    MA    5007.00\n",
      "20    MD    1256.00\n",
      "21    ME     500.95\n",
      "22    MI    3469.85\n",
      "23    MN    2604.00\n",
      "24    MO    1044.50\n",
      "25    MS     399.50\n",
      "26    MT     300.00\n",
      "27    NC    1995.00\n",
      "28    ND     397.00\n",
      "29    NE    1000.00\n",
      "30    NH     510.50\n",
      "31    NJ    2500.00\n",
      "32    NM     500.00\n",
      "33    NV   20000.00\n",
      "34    NY   11847.50\n",
      "35    OH    1599.50\n",
      "36    OK    1893.00\n",
      "37    OR    7000.00\n",
      "38    PA    8490.00\n",
      "39    RI     805.00\n",
      "40    SC    1000.00\n",
      "41    SD     330.00\n",
      "42    TN    1924.00\n",
      "43    TX    6900.00\n",
      "44    UT     405.00\n",
      "45    VA     655.00\n",
      "46    WA    3005.50\n",
      "47    WI    5630.00\n",
      "48    WV     999.00\n",
      "49    WY     170.00\n"
     ]
    }
   ],
   "source": [
    "max_price_by_state = df.groupby(\"STATE\")[\"MAX_PRICE\"].max().reset_index()\n",
    "max_price_by_state = max_price_by_state.sort_values(by=\"STATE\", ascending=True)\n",
    "\n",
    "print(max_price_by_state)"
   ]
  },
  {
   "cell_type": "code",
   "execution_count": 128,
   "metadata": {},
   "outputs": [
    {
     "name": "stderr",
     "output_type": "stream",
     "text": [
      "/var/folders/7d/lbg415rs1336xg8yjmf1h_3c0000gn/T/ipykernel_1230/1617030624.py:5: FutureWarning:\n",
      "\n",
      "\n",
      "\n",
      "Passing `palette` without assigning `hue` is deprecated and will be removed in v0.14.0. Assign the `x` variable to `hue` and set `legend=False` for the same effect.\n",
      "\n",
      "\n"
     ]
    },
    {
     "data": {
      "image/png": "[encoded data removed]",
      "text/plain": [
       "<Figure size 1200x600 with 1 Axes>"
      ]
     },
     "metadata": {},
     "output_type": "display_data"
    }
   ],
   "source": [
    "# set the figure size\n",
    "plt.figure(figsize=(12,6))\n",
    "\n",
    "# create bar plot\n",
    "sns.barplot(x=\"STATE\", y=\"MAX_PRICE\", data=max_price_by_state, palette=\"muted\")\n",
    "\n",
    "# add labels and titles\n",
    "plt.xlabel(\"State\")\n",
    "plt.ylabel(\"Maximum Ticket Price ($)\")\n",
    "plt.title(\"Maximum Ticket Price by State\")\n",
    "plt.xticks(rotation=90) #this rotates the state labels for better readability\n",
    "\n",
    "plt.show()"
   ]
  },
  {
   "cell_type": "code",
   "execution_count": null,
   "metadata": {},
   "outputs": [],
   "source": []
  },
  {
   "cell_type": "code",
   "execution_count": 129,
   "metadata": {},
   "outputs": [
    {
     "data": {
      "application/vnd.plotly.v1+json": {
       "config": {
        "plotlyServerURL": "https://plot.ly"
       },
       "data": [
        {
         "coloraxis": "coloraxis",
         "customdata": [
          [
           "AK",
           69.75
          ],
          [
           "AL",
           500
          ],
          [
           "AR",
           822.46
          ],
          [
           "AZ",
           8250
          ],
          [
           "CA",
           21000
          ],
          [
           "CO",
           6555
          ],
          [
           "CT",
           1949.5
          ],
          [
           "DC",
           1270
          ],
          [
           "DE",
           114
          ],
          [
           "FL",
           10000
          ],
          [
           "GA",
           2000
          ],
          [
           "HI",
           499.5
          ],
          [
           "IA",
           500
          ],
          [
           "ID",
           3999
          ],
          [
           "IL",
           1700
          ],
          [
           "IN",
           1693
          ],
          [
           "KS",
           1000
          ],
          [
           "KY",
           12808
          ],
          [
           "LA",
           2046
          ],
          [
           "MA",
           5007
          ],
          [
           "MD",
           1256
          ],
          [
           "ME",
           500.95
          ],
          [
           "MI",
           3469.85
          ],
          [
           "MN",
           2604
          ],
          [
           "MO",
           1044.5
          ],
          [
           "MS",
           399.5
          ],
          [
           "MT",
           300
          ],
          [
           "NC",
           1995
          ],
          [
           "ND",
           397
          ],
          [
           "NE",
           1000
          ],
          [
           "NH",
           510.5
          ],
          [
           "NJ",
           2500
          ],
          [
           "NM",
           500
          ],
          [
           "NV",
           20000
          ],
          [
           "NY",
           11847.5
          ],
          [
           "OH",
           1599.5
          ],
          [
           "OK",
           1893
          ],
          [
           "OR",
           7000
          ],
          [
           "PA",
           8490
          ],
          [
           "RI",
           805
          ],
          [
           "SC",
           1000
          ],
          [
           "SD",
           330
          ],
          [
           "TN",
           1924
          ],
          [
           "TX",
           6900
          ],
          [
           "UT",
           405
          ],
          [
           "VA",
           655
          ],
          [
           "WA",
           3005.5
          ],
          [
           "WI",
           5630
          ],
          [
           "WV",
           999
          ],
          [
           "WY",
           170
          ]
         ],
         "geo": "geo",
         "hovertemplate": "STATE=%{customdata[0]}<br>Max Price ($)=%{z}<extra></extra>",
         "locationmode": "USA-states",
         "locations": [
          "AK",
          "AL",
          "AR",
          "AZ",
          "CA",
          "CO",
          "CT",
          "DC",
          "DE",
          "FL",
          "GA",
          "HI",
          "IA",
          "ID",
          "IL",
          "IN",
          "KS",
          "KY",
          "LA",
          "MA",
          "MD",
          "ME",
          "MI",
          "MN",
          "MO",
          "MS",
          "MT",
          "NC",
          "ND",
          "NE",
          "NH",
          "NJ",
          "NM",
          "NV",
          "NY",
          "OH",
          "OK",
          "OR",
          "PA",
          "RI",
          "SC",
          "SD",
          "TN",
          "TX",
          "UT",
          "VA",
          "WA",
          "WI",
          "WV",
          "WY"
         ],
         "name": "",
         "type": "choropleth",
         "z": [
          69.75,
          500,
          822.46,
          8250,
          21000,
          6555,
          1949.5,
          1270,
          114,
          10000,
          2000,
          499.5,
          500,
          3999,
          1700,
          1693,
          1000,
          12808,
          2046,
          5007,
          1256,
          500.95,
          3469.85,
          2604,
          1044.5,
          399.5,
          300,
          1995,
          397,
          1000,
          510.5,
          2500,
          500,
          20000,
          11847.5,
          1599.5,
          1893,
          7000,
          8490,
          805,
          1000,
          330,
          1924,
          6900,
          405,
          655,
          3005.5,
          5630,
          999,
          170
         ]
        }
       ],
       "layout": {
        "coloraxis": {
         "colorbar": {
          "title": {
           "text": "Max Price ($)"
          }
         },
         "colorscale": [
          [
           0,
           "rgb(150,0,90)"
          ],
          [
           0.125,
           "rgb(0,0,200)"
          ],
          [
           0.25,
           "rgb(0,25,255)"
          ],
          [
           0.375,
           "rgb(0,152,255)"
          ],
          [
           0.5,
           "rgb(44,255,150)"
          ],
          [
           0.625,
           "rgb(151,255,0)"
          ],
          [
           0.75,
           "rgb(255,234,0)"
          ],
          [
           0.875,
           "rgb(255,111,0)"
          ],
          [
           1,
           "rgb(255,0,0)"
          ]
         ]
        },
        "geo": {
         "center": {},
         "domain": {
          "x": [
           0,
           1
          ],
          "y": [
           0,
           1
          ]
         },
         "scope": "usa"
        },
        "legend": {
         "tracegroupgap": 0
        },
        "template": {
         "data": {
          "bar": [
           {
            "error_x": {
             "color": "#2a3f5f"
            },
            "error_y": {
             "color": "#2a3f5f"
            },
            "marker": {
             "line": {
              "color": "#E5ECF6",
              "width": 0.5
             },
             "pattern": {
              "fillmode": "overlay",
              "size": 10,
              "solidity": 0.2
             }
            },
            "type": "bar"
           }
          ],
          "barpolar": [
           {
            "marker": {
             "line": {
              "color": "#E5ECF6",
              "width": 0.5
             },
             "pattern": {
              "fillmode": "overlay",
              "size": 10,
              "solidity": 0.2
             }
            },
            "type": "barpolar"
           }
          ],
          "carpet": [
           {
            "aaxis": {
             "endlinecolor": "#2a3f5f",
             "gridcolor": "white",
             "linecolor": "white",
             "minorgridcolor": "white",
             "startlinecolor": "#2a3f5f"
            },
            "baxis": {
             "endlinecolor": "#2a3f5f",
             "gridcolor": "white",
             "linecolor": "white",
             "minorgridcolor": "white",
             "startlinecolor": "#2a3f5f"
            },
            "type": "carpet"
           }
          ],
          "choropleth": [
           {
            "colorbar": {
             "outlinewidth": 0,
             "ticks": ""
            },
            "type": "choropleth"
           }
          ],
          "contour": [
           {
            "colorbar": {
             "outlinewidth": 0,
             "ticks": ""
            },
            "colorscale": [
             [
              0,
              "#0d0887"
             ],
             [
              0.1111111111111111,
              "#46039f"
             ],
             [
              0.2222222222222222,
              "#7201a8"
             ],
             [
              0.3333333333333333,
              "#9c179e"
             ],
             [
              0.4444444444444444,
              "#bd3786"
             ],
             [
              0.5555555555555556,
              "#d8576b"
             ],
             [
              0.6666666666666666,
              "#ed7953"
             ],
             [
              0.7777777777777778,
              "#fb9f3a"
             ],
             [
              0.8888888888888888,
              "#fdca26"
             ],
             [
              1,
              "#f0f921"
             ]
            ],
            "type": "contour"
           }
          ],
          "contourcarpet": [
           {
            "colorbar": {
             "outlinewidth": 0,
             "ticks": ""
            },
            "type": "contourcarpet"
           }
          ],
          "heatmap": [
           {
            "colorbar": {
             "outlinewidth": 0,
             "ticks": ""
            },
            "colorscale": [
             [
              0,
              "#0d0887"
             ],
             [
              0.1111111111111111,
              "#46039f"
             ],
             [
              0.2222222222222222,
              "#7201a8"
             ],
             [
              0.3333333333333333,
              "#9c179e"
             ],
             [
              0.4444444444444444,
              "#bd3786"
             ],
             [
              0.5555555555555556,
              "#d8576b"
             ],
             [
              0.6666666666666666,
              "#ed7953"
             ],
             [
              0.7777777777777778,
              "#fb9f3a"
             ],
             [
              0.8888888888888888,
              "#fdca26"
             ],
             [
              1,
              "#f0f921"
             ]
            ],
            "type": "heatmap"
           }
          ],
          "heatmapgl": [
           {
            "colorbar": {
             "outlinewidth": 0,
             "ticks": ""
            },
            "colorscale": [
             [
              0,
              "#0d0887"
             ],
             [
              0.1111111111111111,
              "#46039f"
             ],
             [
              0.2222222222222222,
              "#7201a8"
             ],
             [
              0.3333333333333333,
              "#9c179e"
             ],
             [
              0.4444444444444444,
              "#bd3786"
             ],
             [
              0.5555555555555556,
              "#d8576b"
             ],
             [
              0.6666666666666666,
              "#ed7953"
             ],
             [
              0.7777777777777778,
              "#fb9f3a"
             ],
             [
              0.8888888888888888,
              "#fdca26"
             ],
             [
              1,
              "#f0f921"
             ]
            ],
            "type": "heatmapgl"
           }
          ],
          "histogram": [
           {
            "marker": {
             "pattern": {
              "fillmode": "overlay",
              "size": 10,
              "solidity": 0.2
             }
            },
            "type": "histogram"
           }
          ],
          "histogram2d": [
           {
            "colorbar": {
             "outlinewidth": 0,
             "ticks": ""
            },
            "colorscale": [
             [
              0,
              "#0d0887"
             ],
             [
              0.1111111111111111,
              "#46039f"
             ],
             [
              0.2222222222222222,
              "#7201a8"
             ],
             [
              0.3333333333333333,
              "#9c179e"
             ],
             [
              0.4444444444444444,
              "#bd3786"
             ],
             [
              0.5555555555555556,
              "#d8576b"
             ],
             [
              0.6666666666666666,
              "#ed7953"
             ],
             [
              0.7777777777777778,
              "#fb9f3a"
             ],
             [
              0.8888888888888888,
              "#fdca26"
             ],
             [
              1,
              "#f0f921"
             ]
            ],
            "type": "histogram2d"
           }
          ],
          "histogram2dcontour": [
           {
            "colorbar": {
             "outlinewidth": 0,
             "ticks": ""
            },
            "colorscale": [
             [
              0,
              "#0d0887"
             ],
             [
              0.1111111111111111,
              "#46039f"
             ],
             [
              0.2222222222222222,
              "#7201a8"
             ],
             [
              0.3333333333333333,
              "#9c179e"
             ],
             [
              0.4444444444444444,
              "#bd3786"
             ],
             [
              0.5555555555555556,
              "#d8576b"
             ],
             [
              0.6666666666666666,
              "#ed7953"
             ],
             [
              0.7777777777777778,
              "#fb9f3a"
             ],
             [
              0.8888888888888888,
              "#fdca26"
             ],
             [
              1,
              "#f0f921"
             ]
            ],
            "type": "histogram2dcontour"
           }
          ],
          "mesh3d": [
           {
            "colorbar": {
             "outlinewidth": 0,
             "ticks": ""
            },
            "type": "mesh3d"
           }
          ],
          "parcoords": [
           {
            "line": {
             "colorbar": {
              "outlinewidth": 0,
              "ticks": ""
             }
            },
            "type": "parcoords"
           }
          ],
          "pie": [
           {
            "automargin": true,
            "type": "pie"
           }
          ],
          "scatter": [
           {
            "fillpattern": {
             "fillmode": "overlay",
             "size": 10,
             "solidity": 0.2
            },
            "type": "scatter"
           }
          ],
          "scatter3d": [
           {
            "line": {
             "colorbar": {
              "outlinewidth": 0,
              "ticks": ""
             }
            },
            "marker": {
             "colorbar": {
              "outlinewidth": 0,
              "ticks": ""
             }
            },
            "type": "scatter3d"
           }
          ],
          "scattercarpet": [
           {
            "marker": {
             "colorbar": {
              "outlinewidth": 0,
              "ticks": ""
             }
            },
            "type": "scattercarpet"
           }
          ],
          "scattergeo": [
           {
            "marker": {
             "colorbar": {
              "outlinewidth": 0,
              "ticks": ""
             }
            },
            "type": "scattergeo"
           }
          ],
          "scattergl": [
           {
            "marker": {
             "colorbar": {
              "outlinewidth": 0,
              "ticks": ""
             }
            },
            "type": "scattergl"
           }
          ],
          "scattermapbox": [
           {
            "marker": {
             "colorbar": {
              "outlinewidth": 0,
              "ticks": ""
             }
            },
            "type": "scattermapbox"
           }
          ],
          "scatterpolar": [
           {
            "marker": {
             "colorbar": {
              "outlinewidth": 0,
              "ticks": ""
             }
            },
            "type": "scatterpolar"
           }
          ],
          "scatterpolargl": [
           {
            "marker": {
             "colorbar": {
              "outlinewidth": 0,
              "ticks": ""
             }
            },
            "type": "scatterpolargl"
           }
          ],
          "scatterternary": [
           {
            "marker": {
             "colorbar": {
              "outlinewidth": 0,
              "ticks": ""
             }
            },
            "type": "scatterternary"
           }
          ],
          "surface": [
           {
            "colorbar": {
             "outlinewidth": 0,
             "ticks": ""
            },
            "colorscale": [
             [
              0,
              "#0d0887"
             ],
             [
              0.1111111111111111,
              "#46039f"
             ],
             [
              0.2222222222222222,
              "#7201a8"
             ],
             [
              0.3333333333333333,
              "#9c179e"
             ],
             [
              0.4444444444444444,
              "#bd3786"
             ],
             [
              0.5555555555555556,
              "#d8576b"
             ],
             [
              0.6666666666666666,
              "#ed7953"
             ],
             [
              0.7777777777777778,
              "#fb9f3a"
             ],
             [
              0.8888888888888888,
              "#fdca26"
             ],
             [
              1,
              "#f0f921"
             ]
            ],
            "type": "surface"
           }
          ],
          "table": [
           {
            "cells": {
             "fill": {
              "color": "#EBF0F8"
             },
             "line": {
              "color": "white"
             }
            },
            "header": {
             "fill": {
              "color": "#C8D4E3"
             },
             "line": {
              "color": "white"
             }
            },
            "type": "table"
           }
          ]
         },
         "layout": {
          "annotationdefaults": {
           "arrowcolor": "#2a3f5f",
           "arrowhead": 0,
           "arrowwidth": 1
          },
          "autotypenumbers": "strict",
          "coloraxis": {
           "colorbar": {
            "outlinewidth": 0,
            "ticks": ""
           }
          },
          "colorscale": {
           "diverging": [
            [
             0,
             "#8e0152"
            ],
            [
             0.1,
             "#c51b7d"
            ],
            [
             0.2,
             "#de77ae"
            ],
            [
             0.3,
             "#f1b6da"
            ],
            [
             0.4,
             "#fde0ef"
            ],
            [
             0.5,
             "#f7f7f7"
            ],
            [
             0.6,
             "#e6f5d0"
            ],
            [
             0.7,
             "#b8e186"
            ],
            [
             0.8,
             "#7fbc41"
            ],
            [
             0.9,
             "#4d9221"
            ],
            [
             1,
             "#276419"
            ]
           ],
           "sequential": [
            [
             0,
             "#0d0887"
            ],
            [
             0.1111111111111111,
             "#46039f"
            ],
            [
             0.2222222222222222,
             "#7201a8"
            ],
            [
             0.3333333333333333,
             "#9c179e"
            ],
            [
             0.4444444444444444,
             "#bd3786"
            ],
            [
             0.5555555555555556,
             "#d8576b"
            ],
            [
             0.6666666666666666,
             "#ed7953"
            ],
            [
             0.7777777777777778,
             "#fb9f3a"
            ],
            [
             0.8888888888888888,
             "#fdca26"
            ],
            [
             1,
             "#f0f921"
            ]
           ],
           "sequentialminus": [
            [
             0,
             "#0d0887"
            ],
            [
             0.1111111111111111,
             "#46039f"
            ],
            [
             0.2222222222222222,
             "#7201a8"
            ],
            [
             0.3333333333333333,
             "#9c179e"
            ],
            [
             0.4444444444444444,
             "#bd3786"
            ],
            [
             0.5555555555555556,
             "#d8576b"
            ],
            [
             0.6666666666666666,
             "#ed7953"
            ],
            [
             0.7777777777777778,
             "#fb9f3a"
            ],
            [
             0.8888888888888888,
             "#fdca26"
            ],
            [
             1,
             "#f0f921"
            ]
           ]
          },
          "colorway": [
           "#636efa",
           "#EF553B",
           "#00cc96",
           "#ab63fa",
           "#FFA15A",
           "#19d3f3",
           "#FF6692",
           "#B6E880",
           "#FF97FF",
           "#FECB52"
          ],
          "font": {
           "color": "#2a3f5f"
          },
          "geo": {
           "bgcolor": "white",
           "lakecolor": "white",
           "landcolor": "#E5ECF6",
           "showlakes": true,
           "showland": true,
           "subunitcolor": "white"
          },
          "hoverlabel": {
           "align": "left"
          },
          "hovermode": "closest",
          "mapbox": {
           "style": "light"
          },
          "paper_bgcolor": "white",
          "plot_bgcolor": "#E5ECF6",
          "polar": {
           "angularaxis": {
            "gridcolor": "white",
            "linecolor": "white",
            "ticks": ""
           },
           "bgcolor": "#E5ECF6",
           "radialaxis": {
            "gridcolor": "white",
            "linecolor": "white",
            "ticks": ""
           }
          },
          "scene": {
           "xaxis": {
            "backgroundcolor": "#E5ECF6",
            "gridcolor": "white",
            "gridwidth": 2,
            "linecolor": "white",
            "showbackground": true,
            "ticks": "",
            "zerolinecolor": "white"
           },
           "yaxis": {
            "backgroundcolor": "#E5ECF6",
            "gridcolor": "white",
            "gridwidth": 2,
            "linecolor": "white",
            "showbackground": true,
            "ticks": "",
            "zerolinecolor": "white"
           },
           "zaxis": {
            "backgroundcolor": "#E5ECF6",
            "gridcolor": "white",
            "gridwidth": 2,
            "linecolor": "white",
            "showbackground": true,
            "ticks": "",
            "zerolinecolor": "white"
           }
          },
          "shapedefaults": {
           "line": {
            "color": "#2a3f5f"
           }
          },
          "ternary": {
           "aaxis": {
            "gridcolor": "white",
            "linecolor": "white",
            "ticks": ""
           },
           "baxis": {
            "gridcolor": "white",
            "linecolor": "white",
            "ticks": ""
           },
           "bgcolor": "#E5ECF6",
           "caxis": {
            "gridcolor": "white",
            "linecolor": "white",
            "ticks": ""
           }
          },
          "title": {
           "x": 0.05
          },
          "xaxis": {
           "automargin": true,
           "gridcolor": "white",
           "linecolor": "white",
           "ticks": "",
           "title": {
            "standoff": 15
           },
           "zerolinecolor": "white",
           "zerolinewidth": 2
          },
          "yaxis": {
           "automargin": true,
           "gridcolor": "white",
           "linecolor": "white",
           "ticks": "",
           "title": {
            "standoff": 15
           },
           "zerolinecolor": "white",
           "zerolinewidth": 2
          }
         }
        },
        "title": {
         "text": "Maximum Ticket Price by State"
        }
       }
      }
     },
     "metadata": {},
     "output_type": "display_data"
    }
   ],
   "source": [
    "# use Plotly to create an interactive map \n",
    "fig = px.choropleth(\n",
    "    max_price_by_state,\n",
    "    locations=\"STATE\", \n",
    "    locationmode=\"USA-states\",\n",
    "    color=\"MAX_PRICE\",\n",
    "    color_continuous_scale=\"Rainbow\",\n",
    "    scope=\"usa\",\n",
    "    title=\"Maximum Ticket Price by State\",\n",
    "    labels={\"MAX_PRICE\": \"Max Price ($)\"},\n",
    "    hover_data={\"STATE\": True, \"MAX_PRICE\": True}\n",
    ")\n",
    "\n",
    "fig.show()"
   ]
  }
 ],
 "metadata": {
  "kernelspec": {
   "display_name": "base",
   "language": "python",
   "name": "python3"
  },
  "language_info": {
   "codemirror_mode": {
    "name": "ipython",
    "version": 3
   },
   "file_extension": ".py",
   "mimetype": "text/x-python",
   "name": "python",
   "nbconvert_exporter": "python",
   "pygments_lexer": "ipython3",
   "version": "3.12.4"
  }
 },
 "nbformat": 4,
 "nbformat_minor": 2
}
